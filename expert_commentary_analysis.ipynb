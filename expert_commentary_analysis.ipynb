{
 "cells": [
  {
   "cell_type": "code",
   "execution_count": 3,
   "id": "406c11b5",
   "metadata": {},
   "outputs": [],
   "source": [
    "import pandas as pd\n",
    "import numpy as np\n",
    "import seaborn as sns"
   ]
  },
  {
   "cell_type": "code",
   "execution_count": 4,
   "id": "196931bc",
   "metadata": {},
   "outputs": [],
   "source": [
    "dfnikkei = pd.read_csv('formatted_expertcommentary - nikkei.csv')"
   ]
  },
  {
   "cell_type": "code",
   "execution_count": 5,
   "id": "3cbf9bae",
   "metadata": {},
   "outputs": [
    {
     "data": {
      "text/html": [
       "<div>\n",
       "<style scoped>\n",
       "    .dataframe tbody tr th:only-of-type {\n",
       "        vertical-align: middle;\n",
       "    }\n",
       "\n",
       "    .dataframe tbody tr th {\n",
       "        vertical-align: top;\n",
       "    }\n",
       "\n",
       "    .dataframe thead th {\n",
       "        text-align: right;\n",
       "    }\n",
       "</style>\n",
       "<table border=\"1\" class=\"dataframe\">\n",
       "  <thead>\n",
       "    <tr style=\"text-align: right;\">\n",
       "      <th></th>\n",
       "      <th>name</th>\n",
       "      <th>gender</th>\n",
       "      <th>inhouse</th>\n",
       "      <th>headline</th>\n",
       "      <th>urls</th>\n",
       "      <th>description</th>\n",
       "      <th>photo</th>\n",
       "    </tr>\n",
       "  </thead>\n",
       "  <tbody>\n",
       "    <tr>\n",
       "      <th>0</th>\n",
       "      <td>青山瑠妙</td>\n",
       "      <td>2</td>\n",
       "      <td>NaN</td>\n",
       "      <td>早稲田大学大学院アジア太平洋研究科　教授</td>\n",
       "      <td>https://www.nikkei.com/topics/topic_expert_EVP...</td>\n",
       "      <td>早稲田大学現代中国研究所の所長。著書『現代中国の外交』は2008年に大平正芳記念賞を受賞。米...</td>\n",
       "      <td>https://article-image-ix.nikkei.com/https%3A%2...</td>\n",
       "    </tr>\n",
       "    <tr>\n",
       "      <th>1</th>\n",
       "      <td>赤川省吾</td>\n",
       "      <td>1</td>\n",
       "      <td>True</td>\n",
       "      <td>日本経済新聞社　欧州総局編集委員</td>\n",
       "      <td>https://www.nikkei.com/topics/topic_expert_EVP...</td>\n",
       "      <td>欧州全域の政治・経済・文化に精通し、欧州の政治家やセントラルバンカーに幅広い人脈を持つ。19...</td>\n",
       "      <td>https://article-image-ix.nikkei.com/https%3A%2...</td>\n",
       "    </tr>\n",
       "  </tbody>\n",
       "</table>\n",
       "</div>"
      ],
      "text/plain": [
       "   name  gender inhouse              headline  \\\n",
       "0  青山瑠妙       2     NaN  早稲田大学大学院アジア太平洋研究科　教授   \n",
       "1  赤川省吾       1    True      日本経済新聞社　欧州総局編集委員   \n",
       "\n",
       "                                                urls  \\\n",
       "0  https://www.nikkei.com/topics/topic_expert_EVP...   \n",
       "1  https://www.nikkei.com/topics/topic_expert_EVP...   \n",
       "\n",
       "                                         description  \\\n",
       "0  早稲田大学現代中国研究所の所長。著書『現代中国の外交』は2008年に大平正芳記念賞を受賞。米...   \n",
       "1  欧州全域の政治・経済・文化に精通し、欧州の政治家やセントラルバンカーに幅広い人脈を持つ。19...   \n",
       "\n",
       "                                               photo  \n",
       "0  https://article-image-ix.nikkei.com/https%3A%2...  \n",
       "1  https://article-image-ix.nikkei.com/https%3A%2...  "
      ]
     },
     "execution_count": 5,
     "metadata": {},
     "output_type": "execute_result"
    }
   ],
   "source": [
    "dfnikkei.head(2)"
   ]
  },
  {
   "cell_type": "code",
   "execution_count": 6,
   "id": "85481836",
   "metadata": {},
   "outputs": [],
   "source": [
    "dfasahi = pd.read_csv('formatted_expertcommentary - asahi.csv')"
   ]
  },
  {
   "cell_type": "code",
   "execution_count": 7,
   "id": "0650d413",
   "metadata": {},
   "outputs": [],
   "source": [
    "dfasahi = dfasahi.rename(columns= {'fullname': 'name', 'job':'a_headline', 'profile':'a_profile'})"
   ]
  },
  {
   "cell_type": "code",
   "execution_count": 8,
   "id": "e7ff9521",
   "metadata": {},
   "outputs": [
    {
     "data": {
      "text/html": [
       "<div>\n",
       "<style scoped>\n",
       "    .dataframe tbody tr th:only-of-type {\n",
       "        vertical-align: middle;\n",
       "    }\n",
       "\n",
       "    .dataframe tbody tr th {\n",
       "        vertical-align: top;\n",
       "    }\n",
       "\n",
       "    .dataframe thead th {\n",
       "        text-align: right;\n",
       "    }\n",
       "</style>\n",
       "<table border=\"1\" class=\"dataframe\">\n",
       "  <thead>\n",
       "    <tr style=\"text-align: right;\">\n",
       "      <th></th>\n",
       "      <th>name</th>\n",
       "      <th>gender</th>\n",
       "      <th>inhouse</th>\n",
       "      <th>a_headline</th>\n",
       "      <th>a_profile</th>\n",
       "      <th>photo</th>\n",
       "      <th>twitter</th>\n",
       "    </tr>\n",
       "  </thead>\n",
       "  <tbody>\n",
       "    <tr>\n",
       "      <th>55</th>\n",
       "      <td>山下剛</td>\n",
       "      <td>1</td>\n",
       "      <td>True</td>\n",
       "      <td>記者（医療的ケア児、子育て）</td>\n",
       "      <td>NaN</td>\n",
       "      <td>https://www.asahicom.jp/comment/assets/img/com...</td>\n",
       "      <td>NaN</td>\n",
       "    </tr>\n",
       "    <tr>\n",
       "      <th>56</th>\n",
       "      <td>吉岡桂子</td>\n",
       "      <td>2</td>\n",
       "      <td>True</td>\n",
       "      <td>編集委員（中国など国際関係）</td>\n",
       "      <td>NaN</td>\n",
       "      <td>https://www.asahicom.jp/comment/assets/img/com...</td>\n",
       "      <td>NaN</td>\n",
       "    </tr>\n",
       "  </tbody>\n",
       "</table>\n",
       "</div>"
      ],
      "text/plain": [
       "    name  gender inhouse      a_headline a_profile  \\\n",
       "55   山下剛       1    True  記者（医療的ケア児、子育て）       NaN   \n",
       "56  吉岡桂子       2    True  編集委員（中国など国際関係）       NaN   \n",
       "\n",
       "                                                photo twitter  \n",
       "55  https://www.asahicom.jp/comment/assets/img/com...     NaN  \n",
       "56  https://www.asahicom.jp/comment/assets/img/com...     NaN  "
      ]
     },
     "execution_count": 8,
     "metadata": {},
     "output_type": "execute_result"
    }
   ],
   "source": [
    "dfasahi.tail(2)"
   ]
  },
  {
   "cell_type": "code",
   "execution_count": 9,
   "id": "2ac09fb7",
   "metadata": {},
   "outputs": [],
   "source": [
    "dfnp = pd.read_csv('formatted_expertcommentary - newspicks.csv')"
   ]
  },
  {
   "cell_type": "code",
   "execution_count": 10,
   "id": "caa79097",
   "metadata": {},
   "outputs": [],
   "source": [
    "dfnp = dfnp.rename(columns= {'title':'np_headline', 'caegory':'np_category'})"
   ]
  },
  {
   "cell_type": "code",
   "execution_count": 11,
   "id": "f768bcbf",
   "metadata": {},
   "outputs": [],
   "source": [
    "dfnp['name'] = dfnp['name'].str.replace('\\s','', regex=True)"
   ]
  },
  {
   "cell_type": "code",
   "execution_count": 12,
   "id": "5f2ee5b6",
   "metadata": {
    "scrolled": true
   },
   "outputs": [
    {
     "data": {
      "text/html": [
       "<div>\n",
       "<style scoped>\n",
       "    .dataframe tbody tr th:only-of-type {\n",
       "        vertical-align: middle;\n",
       "    }\n",
       "\n",
       "    .dataframe tbody tr th {\n",
       "        vertical-align: top;\n",
       "    }\n",
       "\n",
       "    .dataframe thead th {\n",
       "        text-align: right;\n",
       "    }\n",
       "</style>\n",
       "<table border=\"1\" class=\"dataframe\">\n",
       "  <thead>\n",
       "    <tr style=\"text-align: right;\">\n",
       "      <th></th>\n",
       "      <th>name</th>\n",
       "      <th>gender</th>\n",
       "      <th>inhouse</th>\n",
       "      <th>np_category</th>\n",
       "      <th>np_headline</th>\n",
       "      <th>urls</th>\n",
       "      <th>likes</th>\n",
       "      <th>profile</th>\n",
       "      <th>photolink</th>\n",
       "    </tr>\n",
       "  </thead>\n",
       "  <tbody>\n",
       "    <tr>\n",
       "      <th>0</th>\n",
       "      <td>工藤郁子</td>\n",
       "      <td>2</td>\n",
       "      <td>NaN</td>\n",
       "      <td>7月のプロピッカー</td>\n",
       "      <td>大阪大学社会技術共創研究センター 招聘教員</td>\n",
       "      <td>https://newspicks.com//user/981762?ref=recomme...</td>\n",
       "      <td>292</td>\n",
       "      <td>工藤 郁子       大阪大学社会技術共創研究センター 招聘教員   ジャンル: AI・I...</td>\n",
       "      <td>https://newspicks.com//users/981762/cover?widt...</td>\n",
       "    </tr>\n",
       "    <tr>\n",
       "      <th>1</th>\n",
       "      <td>前田瑶介</td>\n",
       "      <td>1</td>\n",
       "      <td>NaN</td>\n",
       "      <td>7月のプロピッカー</td>\n",
       "      <td>WOTA 代表取締役CEO</td>\n",
       "      <td>https://newspicks.com//user/355655?ref=recomme...</td>\n",
       "      <td>84</td>\n",
       "      <td>前田 瑶介       WOTA 代表取締役CEO   ジャンル: エネルギー・環境  もら...</td>\n",
       "      <td>https://newspicks.com//users/355655/cover?widt...</td>\n",
       "    </tr>\n",
       "  </tbody>\n",
       "</table>\n",
       "</div>"
      ],
      "text/plain": [
       "   name  gender inhouse np_category            np_headline  \\\n",
       "0  工藤郁子       2     NaN   7月のプロピッカー  大阪大学社会技術共創研究センター 招聘教員   \n",
       "1  前田瑶介       1     NaN   7月のプロピッカー          WOTA 代表取締役CEO   \n",
       "\n",
       "                                                urls  likes  \\\n",
       "0  https://newspicks.com//user/981762?ref=recomme...    292   \n",
       "1  https://newspicks.com//user/355655?ref=recomme...     84   \n",
       "\n",
       "                                             profile  \\\n",
       "0  工藤 郁子       大阪大学社会技術共創研究センター 招聘教員   ジャンル: AI・I...   \n",
       "1  前田 瑶介       WOTA 代表取締役CEO   ジャンル: エネルギー・環境  もら...   \n",
       "\n",
       "                                           photolink  \n",
       "0  https://newspicks.com//users/981762/cover?widt...  \n",
       "1  https://newspicks.com//users/355655/cover?widt...  "
      ]
     },
     "execution_count": 12,
     "metadata": {},
     "output_type": "execute_result"
    }
   ],
   "source": [
    "dfnp.head(2)"
   ]
  },
  {
   "cell_type": "markdown",
   "id": "3ecfe01d",
   "metadata": {},
   "source": [
    "## Q. How many experts comment to articles?"
   ]
  },
  {
   "cell_type": "code",
   "execution_count": 13,
   "id": "1b6d8340",
   "metadata": {},
   "outputs": [
    {
     "data": {
      "text/plain": [
       "90"
      ]
     },
     "execution_count": 13,
     "metadata": {},
     "output_type": "execute_result"
    }
   ],
   "source": [
    "len(dfnikkei)"
   ]
  },
  {
   "cell_type": "code",
   "execution_count": 14,
   "id": "2e51fb1c",
   "metadata": {},
   "outputs": [
    {
     "name": "stdout",
     "output_type": "stream",
     "text": [
      "<class 'pandas.core.frame.DataFrame'>\n",
      "RangeIndex: 90 entries, 0 to 89\n",
      "Data columns (total 7 columns):\n",
      " #   Column       Non-Null Count  Dtype \n",
      "---  ------       --------------  ----- \n",
      " 0   name         90 non-null     object\n",
      " 1   gender       90 non-null     int64 \n",
      " 2   inhouse      20 non-null     object\n",
      " 3   headline     90 non-null     object\n",
      " 4   urls         90 non-null     object\n",
      " 5   description  90 non-null     object\n",
      " 6   photo        90 non-null     object\n",
      "dtypes: int64(1), object(6)\n",
      "memory usage: 5.0+ KB\n"
     ]
    }
   ],
   "source": [
    "dfnikkei.info()"
   ]
  },
  {
   "cell_type": "code",
   "execution_count": 15,
   "id": "51413d63",
   "metadata": {},
   "outputs": [
    {
     "data": {
      "text/plain": [
       "57"
      ]
     },
     "execution_count": 15,
     "metadata": {},
     "output_type": "execute_result"
    }
   ],
   "source": [
    "len(dfasahi)"
   ]
  },
  {
   "cell_type": "code",
   "execution_count": 16,
   "id": "056bd59d",
   "metadata": {},
   "outputs": [
    {
     "name": "stdout",
     "output_type": "stream",
     "text": [
      "<class 'pandas.core.frame.DataFrame'>\n",
      "RangeIndex: 57 entries, 0 to 56\n",
      "Data columns (total 7 columns):\n",
      " #   Column      Non-Null Count  Dtype \n",
      "---  ------      --------------  ----- \n",
      " 0   name        57 non-null     object\n",
      " 1   gender      57 non-null     int64 \n",
      " 2   inhouse     30 non-null     object\n",
      " 3   a_headline  57 non-null     object\n",
      " 4   a_profile   27 non-null     object\n",
      " 5   photo       57 non-null     object\n",
      " 6   twitter     25 non-null     object\n",
      "dtypes: int64(1), object(6)\n",
      "memory usage: 3.2+ KB\n"
     ]
    }
   ],
   "source": [
    "dfasahi.info()"
   ]
  },
  {
   "cell_type": "code",
   "execution_count": 17,
   "id": "ae7c0f33",
   "metadata": {},
   "outputs": [
    {
     "data": {
      "text/plain": [
       "226"
      ]
     },
     "execution_count": 17,
     "metadata": {},
     "output_type": "execute_result"
    }
   ],
   "source": [
    "len(dfnp)"
   ]
  },
  {
   "cell_type": "code",
   "execution_count": 18,
   "id": "c814d749",
   "metadata": {},
   "outputs": [
    {
     "name": "stdout",
     "output_type": "stream",
     "text": [
      "<class 'pandas.core.frame.DataFrame'>\n",
      "RangeIndex: 226 entries, 0 to 225\n",
      "Data columns (total 9 columns):\n",
      " #   Column       Non-Null Count  Dtype \n",
      "---  ------       --------------  ----- \n",
      " 0   name         226 non-null    object\n",
      " 1   gender       226 non-null    int64 \n",
      " 2   inhouse      1 non-null      object\n",
      " 3   np_category  226 non-null    object\n",
      " 4   np_headline  226 non-null    object\n",
      " 5   urls         226 non-null    object\n",
      " 6   likes        226 non-null    int64 \n",
      " 7   profile      226 non-null    object\n",
      " 8   photolink    226 non-null    object\n",
      "dtypes: int64(2), object(7)\n",
      "memory usage: 16.0+ KB\n"
     ]
    }
   ],
   "source": [
    "dfnp.info()"
   ]
  },
  {
   "cell_type": "markdown",
   "id": "63ef40df",
   "metadata": {},
   "source": [
    "## Q. How many inhouse experts comment to articles?"
   ]
  },
  {
   "cell_type": "code",
   "execution_count": 19,
   "id": "63e5786e",
   "metadata": {},
   "outputs": [
    {
     "data": {
      "text/plain": [
       "20"
      ]
     },
     "execution_count": 19,
     "metadata": {},
     "output_type": "execute_result"
    }
   ],
   "source": [
    "len(dfnikkei[dfnikkei.inhouse == True])"
   ]
  },
  {
   "cell_type": "code",
   "execution_count": 20,
   "id": "05423f9e",
   "metadata": {},
   "outputs": [
    {
     "data": {
      "text/plain": [
       "22"
      ]
     },
     "execution_count": 20,
     "metadata": {},
     "output_type": "execute_result"
    }
   ],
   "source": [
    "round(len(dfnikkei[dfnikkei.inhouse == True])/len(dfnikkei)*100)"
   ]
  },
  {
   "cell_type": "code",
   "execution_count": 21,
   "id": "0194cab6",
   "metadata": {
    "scrolled": true
   },
   "outputs": [
    {
     "data": {
      "text/plain": [
       "30"
      ]
     },
     "execution_count": 21,
     "metadata": {},
     "output_type": "execute_result"
    }
   ],
   "source": [
    "len(dfasahi[dfasahi.inhouse == True])"
   ]
  },
  {
   "cell_type": "code",
   "execution_count": 22,
   "id": "626edcfd",
   "metadata": {},
   "outputs": [
    {
     "data": {
      "text/plain": [
       "53"
      ]
     },
     "execution_count": 22,
     "metadata": {},
     "output_type": "execute_result"
    }
   ],
   "source": [
    "round(len(dfasahi[dfasahi.inhouse == True])/len(dfasahi)*100)"
   ]
  },
  {
   "cell_type": "code",
   "execution_count": 23,
   "id": "30530caa",
   "metadata": {},
   "outputs": [
    {
     "data": {
      "text/plain": [
       "1"
      ]
     },
     "execution_count": 23,
     "metadata": {},
     "output_type": "execute_result"
    }
   ],
   "source": [
    "len(dfnp[dfnp.inhouse == True])"
   ]
  },
  {
   "cell_type": "code",
   "execution_count": 24,
   "id": "2fbf523f",
   "metadata": {},
   "outputs": [
    {
     "data": {
      "text/plain": [
       "0.4"
      ]
     },
     "execution_count": 24,
     "metadata": {},
     "output_type": "execute_result"
    }
   ],
   "source": [
    "round(len(dfnp[dfnp.inhouse == True])/len(dfnp)*100,1)"
   ]
  },
  {
   "cell_type": "markdown",
   "id": "ad2dfa24",
   "metadata": {},
   "source": [
    "## Q. How many female experts are there?"
   ]
  },
  {
   "cell_type": "code",
   "execution_count": 25,
   "id": "2b2f18ed",
   "metadata": {},
   "outputs": [
    {
     "data": {
      "text/plain": [
       "23"
      ]
     },
     "execution_count": 25,
     "metadata": {},
     "output_type": "execute_result"
    }
   ],
   "source": [
    "len(dfnikkei[dfnikkei.gender == 2])"
   ]
  },
  {
   "cell_type": "code",
   "execution_count": 26,
   "id": "7c910d6b",
   "metadata": {},
   "outputs": [
    {
     "data": {
      "text/plain": [
       "26"
      ]
     },
     "execution_count": 26,
     "metadata": {},
     "output_type": "execute_result"
    }
   ],
   "source": [
    "round(len(dfnikkei[dfnikkei.gender == 2])/len(dfnikkei)*100)"
   ]
  },
  {
   "cell_type": "code",
   "execution_count": 27,
   "id": "4670aa53",
   "metadata": {},
   "outputs": [
    {
     "data": {
      "text/plain": [
       "23"
      ]
     },
     "execution_count": 27,
     "metadata": {},
     "output_type": "execute_result"
    }
   ],
   "source": [
    "len(dfasahi[dfasahi.gender == 2])"
   ]
  },
  {
   "cell_type": "code",
   "execution_count": 28,
   "id": "eaf95c45",
   "metadata": {},
   "outputs": [
    {
     "data": {
      "text/plain": [
       "40"
      ]
     },
     "execution_count": 28,
     "metadata": {},
     "output_type": "execute_result"
    }
   ],
   "source": [
    "round(len(dfasahi[dfasahi.gender == 2])/len(dfasahi)*100)"
   ]
  },
  {
   "cell_type": "code",
   "execution_count": 29,
   "id": "b8754c6f",
   "metadata": {},
   "outputs": [
    {
     "data": {
      "text/plain": [
       "51"
      ]
     },
     "execution_count": 29,
     "metadata": {},
     "output_type": "execute_result"
    }
   ],
   "source": [
    "len(dfnp[dfnp.gender == 2])"
   ]
  },
  {
   "cell_type": "code",
   "execution_count": 30,
   "id": "4b8ddcd1",
   "metadata": {},
   "outputs": [
    {
     "data": {
      "text/plain": [
       "23"
      ]
     },
     "execution_count": 30,
     "metadata": {},
     "output_type": "execute_result"
    }
   ],
   "source": [
    "round(len(dfnp[dfnp.gender == 2])/len(dfnp)*100)"
   ]
  },
  {
   "cell_type": "markdown",
   "id": "46284ba8",
   "metadata": {},
   "source": [
    "### How many professors?"
   ]
  },
  {
   "cell_type": "code",
   "execution_count": 69,
   "id": "1db4f884",
   "metadata": {},
   "outputs": [
    {
     "data": {
      "text/plain": [
       "False    67\n",
       "True     23\n",
       "Name: headline, dtype: int64"
      ]
     },
     "execution_count": 69,
     "metadata": {},
     "output_type": "execute_result"
    }
   ],
   "source": [
    "dfnikkei['headline'].str.contains('教授').value_counts()"
   ]
  },
  {
   "cell_type": "code",
   "execution_count": 74,
   "id": "f3a35883",
   "metadata": {},
   "outputs": [
    {
     "data": {
      "text/plain": [
       "26"
      ]
     },
     "execution_count": 74,
     "metadata": {},
     "output_type": "execute_result"
    }
   ],
   "source": [
    "round(23/90*100)"
   ]
  },
  {
   "cell_type": "code",
   "execution_count": 71,
   "id": "486706ef",
   "metadata": {},
   "outputs": [
    {
     "data": {
      "text/plain": [
       "False    48\n",
       "True      9\n",
       "Name: a_headline, dtype: int64"
      ]
     },
     "execution_count": 71,
     "metadata": {},
     "output_type": "execute_result"
    }
   ],
   "source": [
    "dfasahi['a_headline'].str.contains('教授').value_counts()"
   ]
  },
  {
   "cell_type": "code",
   "execution_count": 75,
   "id": "24d57337",
   "metadata": {},
   "outputs": [
    {
     "data": {
      "text/plain": [
       "16"
      ]
     },
     "execution_count": 75,
     "metadata": {},
     "output_type": "execute_result"
    }
   ],
   "source": [
    "round(9/57*100)"
   ]
  },
  {
   "cell_type": "code",
   "execution_count": 72,
   "id": "bf3f3538",
   "metadata": {},
   "outputs": [
    {
     "data": {
      "text/plain": [
       "False    186\n",
       "True      40\n",
       "Name: np_headline, dtype: int64"
      ]
     },
     "execution_count": 72,
     "metadata": {},
     "output_type": "execute_result"
    }
   ],
   "source": [
    "dfnp['np_headline'].str.contains('教授').value_counts()"
   ]
  },
  {
   "cell_type": "code",
   "execution_count": 76,
   "id": "f4669870",
   "metadata": {},
   "outputs": [
    {
     "data": {
      "text/plain": [
       "18"
      ]
     },
     "execution_count": 76,
     "metadata": {},
     "output_type": "execute_result"
    }
   ],
   "source": [
    "round(40/226*100)"
   ]
  },
  {
   "cell_type": "markdown",
   "id": "021b3b0e",
   "metadata": {},
   "source": [
    "### How many CEOs?"
   ]
  },
  {
   "cell_type": "code",
   "execution_count": 82,
   "id": "96554dcb",
   "metadata": {
    "scrolled": true
   },
   "outputs": [
    {
     "data": {
      "text/plain": [
       "False    89\n",
       "True      1\n",
       "Name: headline, dtype: int64"
      ]
     },
     "execution_count": 82,
     "metadata": {},
     "output_type": "execute_result"
    }
   ],
   "source": [
    "dfnikkei['headline'].str.contains('CEO').value_counts()"
   ]
  },
  {
   "cell_type": "code",
   "execution_count": 86,
   "id": "b44071ab",
   "metadata": {},
   "outputs": [
    {
     "data": {
      "text/plain": [
       "1.1"
      ]
     },
     "execution_count": 86,
     "metadata": {},
     "output_type": "execute_result"
    }
   ],
   "source": [
    "round(1/90*100,1)"
   ]
  },
  {
   "cell_type": "code",
   "execution_count": 83,
   "id": "efa31f6f",
   "metadata": {},
   "outputs": [
    {
     "data": {
      "text/plain": [
       "False    57\n",
       "Name: a_headline, dtype: int64"
      ]
     },
     "execution_count": 83,
     "metadata": {},
     "output_type": "execute_result"
    }
   ],
   "source": [
    "dfasahi['a_headline'].str.contains('CEO').value_counts()"
   ]
  },
  {
   "cell_type": "code",
   "execution_count": 87,
   "id": "43ca0314",
   "metadata": {},
   "outputs": [
    {
     "data": {
      "text/plain": [
       "0"
      ]
     },
     "execution_count": 87,
     "metadata": {},
     "output_type": "execute_result"
    }
   ],
   "source": [
    "0"
   ]
  },
  {
   "cell_type": "code",
   "execution_count": 84,
   "id": "4dfcb57d",
   "metadata": {},
   "outputs": [
    {
     "data": {
      "text/plain": [
       "False    208\n",
       "True      18\n",
       "Name: np_headline, dtype: int64"
      ]
     },
     "execution_count": 84,
     "metadata": {},
     "output_type": "execute_result"
    }
   ],
   "source": [
    "dfnp['np_headline'].str.contains('CEO').value_counts()"
   ]
  },
  {
   "cell_type": "code",
   "execution_count": 89,
   "id": "a647058c",
   "metadata": {},
   "outputs": [
    {
     "data": {
      "text/plain": [
       "8.0"
      ]
     },
     "execution_count": 89,
     "metadata": {},
     "output_type": "execute_result"
    }
   ],
   "source": [
    "round(18/226*100,1)"
   ]
  },
  {
   "cell_type": "markdown",
   "id": "8e73a3c3",
   "metadata": {},
   "source": [
    "### How many journalist?"
   ]
  },
  {
   "cell_type": "code",
   "execution_count": 90,
   "id": "eee5bee7",
   "metadata": {
    "scrolled": true
   },
   "outputs": [
    {
     "data": {
      "text/plain": [
       "False    87\n",
       "True      3\n",
       "Name: headline, dtype: int64"
      ]
     },
     "execution_count": 90,
     "metadata": {},
     "output_type": "execute_result"
    }
   ],
   "source": [
    "dfnikkei['headline'].str.contains('ジャーナリスト').value_counts()"
   ]
  },
  {
   "cell_type": "code",
   "execution_count": 101,
   "id": "654696fa",
   "metadata": {},
   "outputs": [
    {
     "data": {
      "text/plain": [
       "3.3"
      ]
     },
     "execution_count": 101,
     "metadata": {},
     "output_type": "execute_result"
    }
   ],
   "source": [
    "round(3/90*100,1)"
   ]
  },
  {
   "cell_type": "code",
   "execution_count": 95,
   "id": "7e8c584d",
   "metadata": {},
   "outputs": [],
   "source": [
    "# dfnikkei[dfnikkei['headline'].str.contains('ジャーナリスト')]"
   ]
  },
  {
   "cell_type": "code",
   "execution_count": 91,
   "id": "152d3233",
   "metadata": {},
   "outputs": [
    {
     "data": {
      "text/plain": [
       "False    53\n",
       "True      4\n",
       "Name: a_headline, dtype: int64"
      ]
     },
     "execution_count": 91,
     "metadata": {},
     "output_type": "execute_result"
    }
   ],
   "source": [
    "dfasahi['a_headline'].str.contains('ジャーナリスト').value_counts()"
   ]
  },
  {
   "cell_type": "code",
   "execution_count": 103,
   "id": "ceac0f86",
   "metadata": {},
   "outputs": [
    {
     "data": {
      "text/plain": [
       "7.0"
      ]
     },
     "execution_count": 103,
     "metadata": {},
     "output_type": "execute_result"
    }
   ],
   "source": [
    "round(4/57*100,1)"
   ]
  },
  {
   "cell_type": "code",
   "execution_count": 97,
   "id": "9e78b01c",
   "metadata": {},
   "outputs": [],
   "source": [
    "# dfasahi[dfasahi['a_headline'].str.contains('ジャーナリスト')]"
   ]
  },
  {
   "cell_type": "code",
   "execution_count": 92,
   "id": "b0ec3a86",
   "metadata": {
    "scrolled": true
   },
   "outputs": [
    {
     "data": {
      "text/plain": [
       "False    220\n",
       "True       6\n",
       "Name: np_headline, dtype: int64"
      ]
     },
     "execution_count": 92,
     "metadata": {},
     "output_type": "execute_result"
    }
   ],
   "source": [
    "dfnp['np_headline'].str.contains('ジャーナリスト').value_counts()"
   ]
  },
  {
   "cell_type": "code",
   "execution_count": 105,
   "id": "57694636",
   "metadata": {},
   "outputs": [
    {
     "data": {
      "text/plain": [
       "2.7"
      ]
     },
     "execution_count": 105,
     "metadata": {},
     "output_type": "execute_result"
    }
   ],
   "source": [
    "round(6/220*100,1)"
   ]
  },
  {
   "cell_type": "code",
   "execution_count": 99,
   "id": "4911b011",
   "metadata": {},
   "outputs": [],
   "source": [
    "# dfnp[dfnp['np_headline'].str.contains('ジャーナリスト')]"
   ]
  },
  {
   "cell_type": "code",
   "execution_count": null,
   "id": "6da52430",
   "metadata": {},
   "outputs": [],
   "source": []
  },
  {
   "cell_type": "code",
   "execution_count": null,
   "id": "0815fbcc",
   "metadata": {},
   "outputs": [],
   "source": []
  },
  {
   "cell_type": "code",
   "execution_count": 31,
   "id": "05aadd07",
   "metadata": {},
   "outputs": [
    {
     "data": {
      "text/plain": [
       "Index(['name', 'gender', 'inhouse', 'headline', 'urls', 'description',\n",
       "       'photo'],\n",
       "      dtype='object')"
      ]
     },
     "execution_count": 31,
     "metadata": {},
     "output_type": "execute_result"
    }
   ],
   "source": [
    "dfnikkei.columns"
   ]
  },
  {
   "cell_type": "code",
   "execution_count": 32,
   "id": "a58100ce",
   "metadata": {},
   "outputs": [
    {
     "data": {
      "text/plain": [
       "Index(['name', 'gender', 'inhouse', 'a_headline', 'a_profile', 'photo',\n",
       "       'twitter'],\n",
       "      dtype='object')"
      ]
     },
     "execution_count": 32,
     "metadata": {},
     "output_type": "execute_result"
    }
   ],
   "source": [
    "dfasahi.columns"
   ]
  },
  {
   "cell_type": "code",
   "execution_count": 33,
   "id": "6dea9f4d",
   "metadata": {},
   "outputs": [
    {
     "data": {
      "text/plain": [
       "Index(['name', 'gender', 'inhouse', 'np_category', 'np_headline', 'urls',\n",
       "       'likes', 'profile', 'photolink'],\n",
       "      dtype='object')"
      ]
     },
     "execution_count": 33,
     "metadata": {},
     "output_type": "execute_result"
    }
   ],
   "source": [
    "dfnp.columns"
   ]
  },
  {
   "cell_type": "code",
   "execution_count": 34,
   "id": "7260a6c1",
   "metadata": {},
   "outputs": [],
   "source": [
    "dfnikkei_new = dfnikkei.drop(columns=['photo'])"
   ]
  },
  {
   "cell_type": "code",
   "execution_count": 35,
   "id": "5f90b997",
   "metadata": {},
   "outputs": [],
   "source": [
    "dfasahi_new = dfasahi.drop(columns=['photo', 'twitter'])"
   ]
  },
  {
   "cell_type": "code",
   "execution_count": 36,
   "id": "c8c601ca",
   "metadata": {},
   "outputs": [],
   "source": [
    "dfnp_new = dfnp.drop(columns=['urls','profile', 'photolink'])"
   ]
  },
  {
   "cell_type": "markdown",
   "id": "011fbba7",
   "metadata": {},
   "source": [
    "### Overlapping Check"
   ]
  },
  {
   "cell_type": "code",
   "execution_count": 37,
   "id": "5bc19b2b",
   "metadata": {},
   "outputs": [],
   "source": [
    "dfnka = dfnikkei_new.merge(dfasahi_new, on='name', how='outer')"
   ]
  },
  {
   "cell_type": "code",
   "execution_count": 38,
   "id": "ec12a483",
   "metadata": {
    "scrolled": true
   },
   "outputs": [
    {
     "name": "stdout",
     "output_type": "stream",
     "text": [
      "<class 'pandas.core.frame.DataFrame'>\n",
      "Int64Index: 146 entries, 0 to 145\n",
      "Data columns (total 10 columns):\n",
      " #   Column       Non-Null Count  Dtype  \n",
      "---  ------       --------------  -----  \n",
      " 0   name         146 non-null    object \n",
      " 1   gender_x     90 non-null     float64\n",
      " 2   inhouse_x    20 non-null     object \n",
      " 3   headline     90 non-null     object \n",
      " 4   urls         90 non-null     object \n",
      " 5   description  90 non-null     object \n",
      " 6   gender_y     57 non-null     float64\n",
      " 7   inhouse_y    30 non-null     object \n",
      " 8   a_headline   57 non-null     object \n",
      " 9   a_profile    27 non-null     object \n",
      "dtypes: float64(2), object(8)\n",
      "memory usage: 12.5+ KB\n"
     ]
    }
   ],
   "source": [
    "dfnka.info()"
   ]
  },
  {
   "cell_type": "code",
   "execution_count": 39,
   "id": "5bb3431c",
   "metadata": {},
   "outputs": [
    {
     "data": {
      "text/plain": [
       "False    146\n",
       "Name: name, dtype: int64"
      ]
     },
     "execution_count": 39,
     "metadata": {},
     "output_type": "execute_result"
    }
   ],
   "source": [
    "dfnka.name.duplicated().value_counts()"
   ]
  },
  {
   "cell_type": "code",
   "execution_count": 40,
   "id": "46cae1eb",
   "metadata": {
    "scrolled": true
   },
   "outputs": [
    {
     "data": {
      "text/plain": [
       "147"
      ]
     },
     "execution_count": 40,
     "metadata": {},
     "output_type": "execute_result"
    }
   ],
   "source": [
    "len(dfnikkei) + len(dfasahi)"
   ]
  },
  {
   "cell_type": "markdown",
   "id": "59d8d5f1",
   "metadata": {},
   "source": [
    "### 147-146=1, 1 expert is overlapped. check!"
   ]
  },
  {
   "cell_type": "code",
   "execution_count": 41,
   "id": "3fc5964c",
   "metadata": {},
   "outputs": [
    {
     "data": {
      "text/html": [
       "<div>\n",
       "<style scoped>\n",
       "    .dataframe tbody tr th:only-of-type {\n",
       "        vertical-align: middle;\n",
       "    }\n",
       "\n",
       "    .dataframe tbody tr th {\n",
       "        vertical-align: top;\n",
       "    }\n",
       "\n",
       "    .dataframe thead th {\n",
       "        text-align: right;\n",
       "    }\n",
       "</style>\n",
       "<table border=\"1\" class=\"dataframe\">\n",
       "  <thead>\n",
       "    <tr style=\"text-align: right;\">\n",
       "      <th></th>\n",
       "      <th>name</th>\n",
       "      <th>gender_x</th>\n",
       "      <th>inhouse_x</th>\n",
       "      <th>headline</th>\n",
       "      <th>urls</th>\n",
       "      <th>description</th>\n",
       "      <th>gender_y</th>\n",
       "      <th>inhouse_y</th>\n",
       "      <th>a_headline</th>\n",
       "      <th>a_profile</th>\n",
       "    </tr>\n",
       "  </thead>\n",
       "  <tbody>\n",
       "    <tr>\n",
       "      <th>63</th>\n",
       "      <td>中満泉</td>\n",
       "      <td>2.0</td>\n",
       "      <td>NaN</td>\n",
       "      <td>国際連合　事務次長・軍縮担当上級代表</td>\n",
       "      <td>https://www.nikkei.com/topics/topic_expert_EVP...</td>\n",
       "      <td>早稲田大学、米国ジョージタウン大学大学院修了後、国連難民高等弁務官事務所（UNHCR）に入所...</td>\n",
       "      <td>2.0</td>\n",
       "      <td>NaN</td>\n",
       "      <td>国際連合事務次長・軍縮担当上級代表</td>\n",
       "      <td>早稲田大学、米国ジョージタウン大学大学院修了後、国連難民高等弁務官事務所（UNHCR）に入所...</td>\n",
       "    </tr>\n",
       "  </tbody>\n",
       "</table>\n",
       "</div>"
      ],
      "text/plain": [
       "   name  gender_x inhouse_x            headline  \\\n",
       "63  中満泉       2.0       NaN  国際連合　事務次長・軍縮担当上級代表   \n",
       "\n",
       "                                                 urls  \\\n",
       "63  https://www.nikkei.com/topics/topic_expert_EVP...   \n",
       "\n",
       "                                          description  gender_y inhouse_y  \\\n",
       "63  早稲田大学、米国ジョージタウン大学大学院修了後、国連難民高等弁務官事務所（UNHCR）に入所...       2.0       NaN   \n",
       "\n",
       "           a_headline                                          a_profile  \n",
       "63  国際連合事務次長・軍縮担当上級代表  早稲田大学、米国ジョージタウン大学大学院修了後、国連難民高等弁務官事務所（UNHCR）に入所...  "
      ]
     },
     "execution_count": 41,
     "metadata": {},
     "output_type": "execute_result"
    }
   ],
   "source": [
    "nkasahi_overlap = dfnka[(dfnka.headline.notna())&(dfnka['a_headline'].notna()) ]\n",
    "nkasahi_overlap"
   ]
  },
  {
   "cell_type": "code",
   "execution_count": 66,
   "id": "10731ec0",
   "metadata": {},
   "outputs": [],
   "source": [
    "nkasahi_overlap.to_csv('nkasahi.csv')"
   ]
  },
  {
   "cell_type": "code",
   "execution_count": 42,
   "id": "41f9a752",
   "metadata": {},
   "outputs": [],
   "source": [
    "dfnpa = dfnp_new.merge(dfasahi_new, on='name', how='outer')"
   ]
  },
  {
   "cell_type": "code",
   "execution_count": 43,
   "id": "62d49407",
   "metadata": {},
   "outputs": [
    {
     "name": "stdout",
     "output_type": "stream",
     "text": [
      "<class 'pandas.core.frame.DataFrame'>\n",
      "Int64Index: 280 entries, 0 to 279\n",
      "Data columns (total 10 columns):\n",
      " #   Column       Non-Null Count  Dtype  \n",
      "---  ------       --------------  -----  \n",
      " 0   name         280 non-null    object \n",
      " 1   gender_x     226 non-null    float64\n",
      " 2   inhouse_x    1 non-null      object \n",
      " 3   np_category  226 non-null    object \n",
      " 4   np_headline  226 non-null    object \n",
      " 5   likes        226 non-null    float64\n",
      " 6   gender_y     57 non-null     float64\n",
      " 7   inhouse_y    30 non-null     object \n",
      " 8   a_headline   57 non-null     object \n",
      " 9   a_profile    27 non-null     object \n",
      "dtypes: float64(3), object(7)\n",
      "memory usage: 24.1+ KB\n"
     ]
    }
   ],
   "source": [
    "dfnpa.info()"
   ]
  },
  {
   "cell_type": "code",
   "execution_count": 44,
   "id": "73198e50",
   "metadata": {},
   "outputs": [
    {
     "data": {
      "text/plain": [
       "False    280\n",
       "Name: name, dtype: int64"
      ]
     },
     "execution_count": 44,
     "metadata": {},
     "output_type": "execute_result"
    }
   ],
   "source": [
    "dfnpa.name.duplicated().value_counts()"
   ]
  },
  {
   "cell_type": "code",
   "execution_count": 45,
   "id": "8a0f20d0",
   "metadata": {},
   "outputs": [
    {
     "data": {
      "text/plain": [
       "3"
      ]
     },
     "execution_count": 45,
     "metadata": {},
     "output_type": "execute_result"
    }
   ],
   "source": [
    "len(dfnp) + len(dfasahi) - len(dfnpa)"
   ]
  },
  {
   "cell_type": "markdown",
   "id": "70378613",
   "metadata": {},
   "source": [
    "### 3 experts are overlapped. check!"
   ]
  },
  {
   "cell_type": "code",
   "execution_count": 46,
   "id": "770a3373",
   "metadata": {},
   "outputs": [
    {
     "data": {
      "text/html": [
       "<div>\n",
       "<style scoped>\n",
       "    .dataframe tbody tr th:only-of-type {\n",
       "        vertical-align: middle;\n",
       "    }\n",
       "\n",
       "    .dataframe tbody tr th {\n",
       "        vertical-align: top;\n",
       "    }\n",
       "\n",
       "    .dataframe thead th {\n",
       "        text-align: right;\n",
       "    }\n",
       "</style>\n",
       "<table border=\"1\" class=\"dataframe\">\n",
       "  <thead>\n",
       "    <tr style=\"text-align: right;\">\n",
       "      <th></th>\n",
       "      <th>name</th>\n",
       "      <th>gender_x</th>\n",
       "      <th>inhouse_x</th>\n",
       "      <th>np_category</th>\n",
       "      <th>np_headline</th>\n",
       "      <th>likes</th>\n",
       "      <th>gender_y</th>\n",
       "      <th>inhouse_y</th>\n",
       "      <th>a_headline</th>\n",
       "      <th>a_profile</th>\n",
       "    </tr>\n",
       "  </thead>\n",
       "  <tbody>\n",
       "    <tr>\n",
       "      <th>16</th>\n",
       "      <td>中野円佳</td>\n",
       "      <td>2.0</td>\n",
       "      <td>NaN</td>\n",
       "      <td>社会</td>\n",
       "      <td>ジャーナリスト／教育社会学</td>\n",
       "      <td>15645.0</td>\n",
       "      <td>2.0</td>\n",
       "      <td>NaN</td>\n",
       "      <td>ジャーナリスト</td>\n",
       "      <td>ジャーナリスト・東京大学大学院教育学研究科博士課程。2007年に東京大学教育学部を卒業後、日...</td>\n",
       "    </tr>\n",
       "    <tr>\n",
       "      <th>66</th>\n",
       "      <td>遠藤乾</td>\n",
       "      <td>1.0</td>\n",
       "      <td>NaN</td>\n",
       "      <td>国際</td>\n",
       "      <td>北海道大学法学部・公共政策大学院教授（政治学、国際政治）</td>\n",
       "      <td>5360.0</td>\n",
       "      <td>1.0</td>\n",
       "      <td>NaN</td>\n",
       "      <td>北海道大学公共政策大学院教授</td>\n",
       "      <td>1966年生まれ。北海道大学法学部卒、同大学大学院法学研究科修士課程修了。ベルギー・カトリッ...</td>\n",
       "    </tr>\n",
       "    <tr>\n",
       "      <th>78</th>\n",
       "      <td>前田直人</td>\n",
       "      <td>1.0</td>\n",
       "      <td>NaN</td>\n",
       "      <td>政治・行政</td>\n",
       "      <td>朝日新聞社 コンテンツ戦略ディレクター(編集担当補佐)</td>\n",
       "      <td>26745.0</td>\n",
       "      <td>1.0</td>\n",
       "      <td>True</td>\n",
       "      <td>コンテンツ戦略ディレクター</td>\n",
       "      <td>NaN</td>\n",
       "    </tr>\n",
       "  </tbody>\n",
       "</table>\n",
       "</div>"
      ],
      "text/plain": [
       "    name  gender_x inhouse_x np_category                   np_headline  \\\n",
       "16  中野円佳       2.0       NaN          社会                 ジャーナリスト／教育社会学   \n",
       "66   遠藤乾       1.0       NaN          国際  北海道大学法学部・公共政策大学院教授（政治学、国際政治）   \n",
       "78  前田直人       1.0       NaN       政治・行政   朝日新聞社 コンテンツ戦略ディレクター(編集担当補佐)   \n",
       "\n",
       "      likes  gender_y inhouse_y      a_headline  \\\n",
       "16  15645.0       2.0       NaN         ジャーナリスト   \n",
       "66   5360.0       1.0       NaN  北海道大学公共政策大学院教授   \n",
       "78  26745.0       1.0      True   コンテンツ戦略ディレクター   \n",
       "\n",
       "                                            a_profile  \n",
       "16  ジャーナリスト・東京大学大学院教育学研究科博士課程。2007年に東京大学教育学部を卒業後、日...  \n",
       "66  1966年生まれ。北海道大学法学部卒、同大学大学院法学研究科修士課程修了。ベルギー・カトリッ...  \n",
       "78                                                NaN  "
      ]
     },
     "execution_count": 46,
     "metadata": {},
     "output_type": "execute_result"
    }
   ],
   "source": [
    "npasahi_overlap = dfnpa [(dfnpa['a_headline'].notna()) & (dfnpa['np_category'].notna()) ]\n",
    "npasahi_overlap"
   ]
  },
  {
   "cell_type": "code",
   "execution_count": 67,
   "id": "84da8a38",
   "metadata": {},
   "outputs": [],
   "source": [
    "npasahi_overlap.to_csv('npasahi.csv')"
   ]
  },
  {
   "cell_type": "code",
   "execution_count": 47,
   "id": "39328d26",
   "metadata": {},
   "outputs": [],
   "source": [
    "dfnknp = dfnikkei_new.merge(dfnp_new, on='name', how='outer')"
   ]
  },
  {
   "cell_type": "code",
   "execution_count": 48,
   "id": "092f8d95",
   "metadata": {},
   "outputs": [
    {
     "name": "stdout",
     "output_type": "stream",
     "text": [
      "<class 'pandas.core.frame.DataFrame'>\n",
      "Int64Index: 307 entries, 0 to 306\n",
      "Data columns (total 11 columns):\n",
      " #   Column       Non-Null Count  Dtype  \n",
      "---  ------       --------------  -----  \n",
      " 0   name         307 non-null    object \n",
      " 1   gender_x     90 non-null     float64\n",
      " 2   inhouse_x    20 non-null     object \n",
      " 3   headline     90 non-null     object \n",
      " 4   urls         90 non-null     object \n",
      " 5   description  90 non-null     object \n",
      " 6   gender_y     226 non-null    float64\n",
      " 7   inhouse_y    1 non-null      object \n",
      " 8   np_category  226 non-null    object \n",
      " 9   np_headline  226 non-null    object \n",
      " 10  likes        226 non-null    float64\n",
      "dtypes: float64(3), object(8)\n",
      "memory usage: 28.8+ KB\n"
     ]
    }
   ],
   "source": [
    "dfnknp.info() "
   ]
  },
  {
   "cell_type": "code",
   "execution_count": 49,
   "id": "cf96a6e3",
   "metadata": {},
   "outputs": [
    {
     "data": {
      "text/plain": [
       "False    307\n",
       "Name: name, dtype: int64"
      ]
     },
     "execution_count": 49,
     "metadata": {},
     "output_type": "execute_result"
    }
   ],
   "source": [
    "dfnknp.name.duplicated().value_counts()"
   ]
  },
  {
   "cell_type": "code",
   "execution_count": 50,
   "id": "7282695a",
   "metadata": {},
   "outputs": [
    {
     "data": {
      "text/plain": [
       "9"
      ]
     },
     "execution_count": 50,
     "metadata": {},
     "output_type": "execute_result"
    }
   ],
   "source": [
    "len(dfnikkei) + len(dfnp) - len(dfnknp)"
   ]
  },
  {
   "cell_type": "markdown",
   "id": "f6e9e77c",
   "metadata": {},
   "source": [
    "### 9 experts are overlapped. check!"
   ]
  },
  {
   "cell_type": "code",
   "execution_count": 51,
   "id": "67a75a04",
   "metadata": {
    "scrolled": true
   },
   "outputs": [
    {
     "data": {
      "text/html": [
       "<div>\n",
       "<style scoped>\n",
       "    .dataframe tbody tr th:only-of-type {\n",
       "        vertical-align: middle;\n",
       "    }\n",
       "\n",
       "    .dataframe tbody tr th {\n",
       "        vertical-align: top;\n",
       "    }\n",
       "\n",
       "    .dataframe thead th {\n",
       "        text-align: right;\n",
       "    }\n",
       "</style>\n",
       "<table border=\"1\" class=\"dataframe\">\n",
       "  <thead>\n",
       "    <tr style=\"text-align: right;\">\n",
       "      <th></th>\n",
       "      <th>name</th>\n",
       "      <th>gender_x</th>\n",
       "      <th>inhouse_x</th>\n",
       "      <th>headline</th>\n",
       "      <th>urls</th>\n",
       "      <th>description</th>\n",
       "      <th>gender_y</th>\n",
       "      <th>inhouse_y</th>\n",
       "      <th>np_category</th>\n",
       "      <th>np_headline</th>\n",
       "      <th>likes</th>\n",
       "    </tr>\n",
       "  </thead>\n",
       "  <tbody>\n",
       "    <tr>\n",
       "      <th>6</th>\n",
       "      <td>池内恵</td>\n",
       "      <td>1.0</td>\n",
       "      <td>NaN</td>\n",
       "      <td>東京大学先端科学技術研究センター　教授</td>\n",
       "      <td>https://www.nikkei.com/topics/topic_expert_EVP...</td>\n",
       "      <td>中東情勢を理解し、日本に伝えてきた第一人者。日本貿易振興機構アジア経済研究所研究員、国際日本...</td>\n",
       "      <td>1.0</td>\n",
       "      <td>NaN</td>\n",
       "      <td>国際</td>\n",
       "      <td>東京大学 先端科学技術研究センター教授（グローバルセキュリティ・宗教分野）</td>\n",
       "      <td>23595.0</td>\n",
       "    </tr>\n",
       "    <tr>\n",
       "      <th>18</th>\n",
       "      <td>蛯原健</td>\n",
       "      <td>1.0</td>\n",
       "      <td>NaN</td>\n",
       "      <td>リブライトパートナーズ　代表パートナー</td>\n",
       "      <td>https://www.nikkei.com/topics/topic_expert_EVP...</td>\n",
       "      <td>アジア地域に特化した独立系ベンチャーキャピタル、リブライト パートナーズを2008年に創業、...</td>\n",
       "      <td>1.0</td>\n",
       "      <td>NaN</td>\n",
       "      <td>テクノロジー</td>\n",
       "      <td>リブライトパートナーズ 代表パートナー</td>\n",
       "      <td>167739.0</td>\n",
       "    </tr>\n",
       "    <tr>\n",
       "      <th>20</th>\n",
       "      <td>大槻奈那</td>\n",
       "      <td>2.0</td>\n",
       "      <td>NaN</td>\n",
       "      <td>マネックス証券　専門役員チーフアナリスト</td>\n",
       "      <td>https://www.nikkei.com/topics/topic_expert_EVP...</td>\n",
       "      <td>スタンダード&amp;プアーズ、UBS、メリルリンチなどの金融機関でリサーチ業務に従事、各種メディア...</td>\n",
       "      <td>2.0</td>\n",
       "      <td>NaN</td>\n",
       "      <td>マネー</td>\n",
       "      <td>マネックス証券 執行役員 /名古屋商科大学大学院 教授</td>\n",
       "      <td>21667.0</td>\n",
       "    </tr>\n",
       "    <tr>\n",
       "      <th>40</th>\n",
       "      <td>鈴木一人</td>\n",
       "      <td>1.0</td>\n",
       "      <td>NaN</td>\n",
       "      <td>東京大学　公共政策大学院 教授</td>\n",
       "      <td>https://www.nikkei.com/topics/topic_expert_EVP...</td>\n",
       "      <td>2000年、英国サセックス大学ヨーロッパ研究所博士課程修了。筑波大学専任講師・准教授、北海道...</td>\n",
       "      <td>1.0</td>\n",
       "      <td>NaN</td>\n",
       "      <td>国際</td>\n",
       "      <td>東京大学 公共政策大学院教授</td>\n",
       "      <td>27800.0</td>\n",
       "    </tr>\n",
       "    <tr>\n",
       "      <th>49</th>\n",
       "      <td>竹内薫</td>\n",
       "      <td>1.0</td>\n",
       "      <td>NaN</td>\n",
       "      <td>サイエンスライター</td>\n",
       "      <td>https://www.nikkei.com/topics/topic_expert_EVP...</td>\n",
       "      <td>量子理論をはじめ科学の最先端を解きほぐすナビゲーター。東京大学教養学部教養学科、同理学部物理...</td>\n",
       "      <td>1.0</td>\n",
       "      <td>NaN</td>\n",
       "      <td>ヘルスケア</td>\n",
       "      <td>サイエンス作家</td>\n",
       "      <td>3305.0</td>\n",
       "    </tr>\n",
       "    <tr>\n",
       "      <th>50</th>\n",
       "      <td>竹内純子</td>\n",
       "      <td>2.0</td>\n",
       "      <td>NaN</td>\n",
       "      <td>国際環境経済研究所　理事・主席研究員</td>\n",
       "      <td>https://www.nikkei.com/topics/topic_expert_EVP...</td>\n",
       "      <td>1994年東京電力入社、主に環境部門を経験。2012年独立。環境・エネルギー政策の研究を続け...</td>\n",
       "      <td>2.0</td>\n",
       "      <td>NaN</td>\n",
       "      <td>社会</td>\n",
       "      <td>国際環境経済研究所 理事・主席研究員</td>\n",
       "      <td>36211.0</td>\n",
       "    </tr>\n",
       "    <tr>\n",
       "      <th>60</th>\n",
       "      <td>中西孝樹</td>\n",
       "      <td>1.0</td>\n",
       "      <td>NaN</td>\n",
       "      <td>ナカニシ自動車産業リサーチ　代表アナリスト</td>\n",
       "      <td>https://www.nikkei.com/topics/topic_expert_EVP...</td>\n",
       "      <td>山一證券、メリルリンチ証券を経て、ＪＰモルガン証券、アライアンス・バーンスタインなどで一貫し...</td>\n",
       "      <td>1.0</td>\n",
       "      <td>NaN</td>\n",
       "      <td>ビジネス</td>\n",
       "      <td>ナカニシ自動車産業リサーチ 代表</td>\n",
       "      <td>25049.0</td>\n",
       "    </tr>\n",
       "    <tr>\n",
       "      <th>81</th>\n",
       "      <td>村上臣</td>\n",
       "      <td>1.0</td>\n",
       "      <td>NaN</td>\n",
       "      <td>リンクトイン日本代表</td>\n",
       "      <td>https://www.nikkei.com/topics/topic_expert_EVP...</td>\n",
       "      <td>2000年8月、ヤフー株式会社入社。2011年に一度退職した後、再び2012年4月からヤフー...</td>\n",
       "      <td>1.0</td>\n",
       "      <td>NaN</td>\n",
       "      <td>キャリア</td>\n",
       "      <td>リンクトイン（LinkedIn） 日本代表</td>\n",
       "      <td>15398.0</td>\n",
       "    </tr>\n",
       "    <tr>\n",
       "      <th>86</th>\n",
       "      <td>山崎俊彦</td>\n",
       "      <td>1.0</td>\n",
       "      <td>NaN</td>\n",
       "      <td>東京大学　大学院情報理工学系研究科 准教授</td>\n",
       "      <td>https://www.nikkei.com/topics/topic_expert_EVP...</td>\n",
       "      <td>東京大学大学院工学系研究科電子工学専攻修了。博士（工学）。2011～2013年、米国・コーネ...</td>\n",
       "      <td>1.0</td>\n",
       "      <td>NaN</td>\n",
       "      <td>テクノロジー</td>\n",
       "      <td>東京大学 大学院情報理工学系研究科電子情報学専攻　准教授</td>\n",
       "      <td>94902.0</td>\n",
       "    </tr>\n",
       "  </tbody>\n",
       "</table>\n",
       "</div>"
      ],
      "text/plain": [
       "    name  gender_x inhouse_x               headline  \\\n",
       "6    池内恵       1.0       NaN    東京大学先端科学技術研究センター　教授   \n",
       "18   蛯原健       1.0       NaN    リブライトパートナーズ　代表パートナー   \n",
       "20  大槻奈那       2.0       NaN   マネックス証券　専門役員チーフアナリスト   \n",
       "40  鈴木一人       1.0       NaN        東京大学　公共政策大学院 教授   \n",
       "49   竹内薫       1.0       NaN              サイエンスライター   \n",
       "50  竹内純子       2.0       NaN     国際環境経済研究所　理事・主席研究員   \n",
       "60  中西孝樹       1.0       NaN  ナカニシ自動車産業リサーチ　代表アナリスト   \n",
       "81   村上臣       1.0       NaN             リンクトイン日本代表   \n",
       "86  山崎俊彦       1.0       NaN  東京大学　大学院情報理工学系研究科 准教授   \n",
       "\n",
       "                                                 urls  \\\n",
       "6   https://www.nikkei.com/topics/topic_expert_EVP...   \n",
       "18  https://www.nikkei.com/topics/topic_expert_EVP...   \n",
       "20  https://www.nikkei.com/topics/topic_expert_EVP...   \n",
       "40  https://www.nikkei.com/topics/topic_expert_EVP...   \n",
       "49  https://www.nikkei.com/topics/topic_expert_EVP...   \n",
       "50  https://www.nikkei.com/topics/topic_expert_EVP...   \n",
       "60  https://www.nikkei.com/topics/topic_expert_EVP...   \n",
       "81  https://www.nikkei.com/topics/topic_expert_EVP...   \n",
       "86  https://www.nikkei.com/topics/topic_expert_EVP...   \n",
       "\n",
       "                                          description  gender_y inhouse_y  \\\n",
       "6   中東情勢を理解し、日本に伝えてきた第一人者。日本貿易振興機構アジア経済研究所研究員、国際日本...       1.0       NaN   \n",
       "18  アジア地域に特化した独立系ベンチャーキャピタル、リブライト パートナーズを2008年に創業、...       1.0       NaN   \n",
       "20  スタンダード&プアーズ、UBS、メリルリンチなどの金融機関でリサーチ業務に従事、各種メディア...       2.0       NaN   \n",
       "40  2000年、英国サセックス大学ヨーロッパ研究所博士課程修了。筑波大学専任講師・准教授、北海道...       1.0       NaN   \n",
       "49  量子理論をはじめ科学の最先端を解きほぐすナビゲーター。東京大学教養学部教養学科、同理学部物理...       1.0       NaN   \n",
       "50  1994年東京電力入社、主に環境部門を経験。2012年独立。環境・エネルギー政策の研究を続け...       2.0       NaN   \n",
       "60  山一證券、メリルリンチ証券を経て、ＪＰモルガン証券、アライアンス・バーンスタインなどで一貫し...       1.0       NaN   \n",
       "81  2000年8月、ヤフー株式会社入社。2011年に一度退職した後、再び2012年4月からヤフー...       1.0       NaN   \n",
       "86  東京大学大学院工学系研究科電子工学専攻修了。博士（工学）。2011～2013年、米国・コーネ...       1.0       NaN   \n",
       "\n",
       "   np_category                            np_headline     likes  \n",
       "6           国際  東京大学 先端科学技術研究センター教授（グローバルセキュリティ・宗教分野）   23595.0  \n",
       "18      テクノロジー                    リブライトパートナーズ 代表パートナー  167739.0  \n",
       "20         マネー            マネックス証券 執行役員 /名古屋商科大学大学院 教授   21667.0  \n",
       "40          国際                         東京大学 公共政策大学院教授   27800.0  \n",
       "49       ヘルスケア                                サイエンス作家    3305.0  \n",
       "50          社会                     国際環境経済研究所 理事・主席研究員   36211.0  \n",
       "60        ビジネス                       ナカニシ自動車産業リサーチ 代表   25049.0  \n",
       "81        キャリア                  リンクトイン（LinkedIn） 日本代表   15398.0  \n",
       "86      テクノロジー           東京大学 大学院情報理工学系研究科電子情報学専攻　准教授   94902.0  "
      ]
     },
     "execution_count": 51,
     "metadata": {},
     "output_type": "execute_result"
    }
   ],
   "source": [
    "nknp_overlap = dfnknp [(dfnknp['headline'].notna()) & (dfnknp['np_category'].notna()) ]\n",
    "nknp_overlap"
   ]
  },
  {
   "cell_type": "code",
   "execution_count": 64,
   "id": "ddea26e1",
   "metadata": {},
   "outputs": [],
   "source": [
    "nknp_overlap.to_csv('nknpoverlap.csv')"
   ]
  },
  {
   "cell_type": "code",
   "execution_count": null,
   "id": "96a71129",
   "metadata": {},
   "outputs": [],
   "source": []
  },
  {
   "cell_type": "code",
   "execution_count": 52,
   "id": "1691a206",
   "metadata": {},
   "outputs": [
    {
     "data": {
      "text/html": [
       "<div>\n",
       "<style scoped>\n",
       "    .dataframe tbody tr th:only-of-type {\n",
       "        vertical-align: middle;\n",
       "    }\n",
       "\n",
       "    .dataframe tbody tr th {\n",
       "        vertical-align: top;\n",
       "    }\n",
       "\n",
       "    .dataframe thead th {\n",
       "        text-align: right;\n",
       "    }\n",
       "</style>\n",
       "<table border=\"1\" class=\"dataframe\">\n",
       "  <thead>\n",
       "    <tr style=\"text-align: right;\">\n",
       "      <th></th>\n",
       "      <th>name</th>\n",
       "      <th>gender_x</th>\n",
       "      <th>inhouse_x</th>\n",
       "      <th>headline</th>\n",
       "      <th>urls</th>\n",
       "      <th>description</th>\n",
       "      <th>gender_y</th>\n",
       "      <th>inhouse_y</th>\n",
       "      <th>a_headline</th>\n",
       "      <th>a_profile</th>\n",
       "      <th>gender</th>\n",
       "      <th>inhouse</th>\n",
       "      <th>np_category</th>\n",
       "      <th>np_headline</th>\n",
       "      <th>likes</th>\n",
       "    </tr>\n",
       "  </thead>\n",
       "  <tbody>\n",
       "    <tr>\n",
       "      <th>0</th>\n",
       "      <td>青山瑠妙</td>\n",
       "      <td>2.0</td>\n",
       "      <td>NaN</td>\n",
       "      <td>早稲田大学大学院アジア太平洋研究科　教授</td>\n",
       "      <td>https://www.nikkei.com/topics/topic_expert_EVP...</td>\n",
       "      <td>早稲田大学現代中国研究所の所長。著書『現代中国の外交』は2008年に大平正芳記念賞を受賞。米...</td>\n",
       "      <td>NaN</td>\n",
       "      <td>NaN</td>\n",
       "      <td>NaN</td>\n",
       "      <td>NaN</td>\n",
       "      <td>NaN</td>\n",
       "      <td>NaN</td>\n",
       "      <td>NaN</td>\n",
       "      <td>NaN</td>\n",
       "      <td>NaN</td>\n",
       "    </tr>\n",
       "    <tr>\n",
       "      <th>1</th>\n",
       "      <td>赤川省吾</td>\n",
       "      <td>1.0</td>\n",
       "      <td>True</td>\n",
       "      <td>日本経済新聞社　欧州総局編集委員</td>\n",
       "      <td>https://www.nikkei.com/topics/topic_expert_EVP...</td>\n",
       "      <td>欧州全域の政治・経済・文化に精通し、欧州の政治家やセントラルバンカーに幅広い人脈を持つ。19...</td>\n",
       "      <td>NaN</td>\n",
       "      <td>NaN</td>\n",
       "      <td>NaN</td>\n",
       "      <td>NaN</td>\n",
       "      <td>NaN</td>\n",
       "      <td>NaN</td>\n",
       "      <td>NaN</td>\n",
       "      <td>NaN</td>\n",
       "      <td>NaN</td>\n",
       "    </tr>\n",
       "    <tr>\n",
       "      <th>2</th>\n",
       "      <td>秋田浩之</td>\n",
       "      <td>1.0</td>\n",
       "      <td>True</td>\n",
       "      <td>日本経済新聞社　本社コメンテーター</td>\n",
       "      <td>https://www.nikkei.com/topics/topic_expert_EVP...</td>\n",
       "      <td>国内外の外交、安全保障問題のエキスパートとして「Deep Insight」など論評コラムを連...</td>\n",
       "      <td>NaN</td>\n",
       "      <td>NaN</td>\n",
       "      <td>NaN</td>\n",
       "      <td>NaN</td>\n",
       "      <td>NaN</td>\n",
       "      <td>NaN</td>\n",
       "      <td>NaN</td>\n",
       "      <td>NaN</td>\n",
       "      <td>NaN</td>\n",
       "    </tr>\n",
       "  </tbody>\n",
       "</table>\n",
       "</div>"
      ],
      "text/plain": [
       "   name  gender_x inhouse_x              headline  \\\n",
       "0  青山瑠妙       2.0       NaN  早稲田大学大学院アジア太平洋研究科　教授   \n",
       "1  赤川省吾       1.0      True      日本経済新聞社　欧州総局編集委員   \n",
       "2  秋田浩之       1.0      True     日本経済新聞社　本社コメンテーター   \n",
       "\n",
       "                                                urls  \\\n",
       "0  https://www.nikkei.com/topics/topic_expert_EVP...   \n",
       "1  https://www.nikkei.com/topics/topic_expert_EVP...   \n",
       "2  https://www.nikkei.com/topics/topic_expert_EVP...   \n",
       "\n",
       "                                         description  gender_y inhouse_y  \\\n",
       "0  早稲田大学現代中国研究所の所長。著書『現代中国の外交』は2008年に大平正芳記念賞を受賞。米...       NaN       NaN   \n",
       "1  欧州全域の政治・経済・文化に精通し、欧州の政治家やセントラルバンカーに幅広い人脈を持つ。19...       NaN       NaN   \n",
       "2  国内外の外交、安全保障問題のエキスパートとして「Deep Insight」など論評コラムを連...       NaN       NaN   \n",
       "\n",
       "  a_headline a_profile  gender inhouse np_category np_headline  likes  \n",
       "0        NaN       NaN     NaN     NaN         NaN         NaN    NaN  \n",
       "1        NaN       NaN     NaN     NaN         NaN         NaN    NaN  \n",
       "2        NaN       NaN     NaN     NaN         NaN         NaN    NaN  "
      ]
     },
     "execution_count": 52,
     "metadata": {},
     "output_type": "execute_result"
    }
   ],
   "source": [
    "dfnknpa =  dfnka.merge(dfnp_new, on='name', how='outer')\n",
    "dfnknpa.head(3)"
   ]
  },
  {
   "cell_type": "code",
   "execution_count": 53,
   "id": "f5e0f9d5",
   "metadata": {},
   "outputs": [
    {
     "name": "stdout",
     "output_type": "stream",
     "text": [
      "<class 'pandas.core.frame.DataFrame'>\n",
      "Int64Index: 360 entries, 0 to 359\n",
      "Data columns (total 15 columns):\n",
      " #   Column       Non-Null Count  Dtype  \n",
      "---  ------       --------------  -----  \n",
      " 0   name         360 non-null    object \n",
      " 1   gender_x     90 non-null     float64\n",
      " 2   inhouse_x    20 non-null     object \n",
      " 3   headline     90 non-null     object \n",
      " 4   urls         90 non-null     object \n",
      " 5   description  90 non-null     object \n",
      " 6   gender_y     57 non-null     float64\n",
      " 7   inhouse_y    30 non-null     object \n",
      " 8   a_headline   57 non-null     object \n",
      " 9   a_profile    27 non-null     object \n",
      " 10  gender       226 non-null    float64\n",
      " 11  inhouse      1 non-null      object \n",
      " 12  np_category  226 non-null    object \n",
      " 13  np_headline  226 non-null    object \n",
      " 14  likes        226 non-null    float64\n",
      "dtypes: float64(4), object(11)\n",
      "memory usage: 45.0+ KB\n"
     ]
    }
   ],
   "source": [
    "dfnknpa.info()"
   ]
  },
  {
   "cell_type": "code",
   "execution_count": 54,
   "id": "f6fe70c8",
   "metadata": {},
   "outputs": [
    {
     "data": {
      "text/plain": [
       "False    360\n",
       "Name: name, dtype: int64"
      ]
     },
     "execution_count": 54,
     "metadata": {},
     "output_type": "execute_result"
    }
   ],
   "source": [
    "dfnknpa.name.duplicated().value_counts()"
   ]
  },
  {
   "cell_type": "code",
   "execution_count": 55,
   "id": "a2567092",
   "metadata": {},
   "outputs": [
    {
     "data": {
      "text/plain": [
       "13"
      ]
     },
     "execution_count": 55,
     "metadata": {},
     "output_type": "execute_result"
    }
   ],
   "source": [
    "len(dfnikkei) + len(dfasahi) + len(dfnp) - len(dfnknpa)"
   ]
  },
  {
   "cell_type": "code",
   "execution_count": 56,
   "id": "25329e41",
   "metadata": {},
   "outputs": [
    {
     "data": {
      "text/html": [
       "<div>\n",
       "<style scoped>\n",
       "    .dataframe tbody tr th:only-of-type {\n",
       "        vertical-align: middle;\n",
       "    }\n",
       "\n",
       "    .dataframe tbody tr th {\n",
       "        vertical-align: top;\n",
       "    }\n",
       "\n",
       "    .dataframe thead th {\n",
       "        text-align: right;\n",
       "    }\n",
       "</style>\n",
       "<table border=\"1\" class=\"dataframe\">\n",
       "  <thead>\n",
       "    <tr style=\"text-align: right;\">\n",
       "      <th></th>\n",
       "      <th>name</th>\n",
       "      <th>gender_x</th>\n",
       "      <th>inhouse_x</th>\n",
       "      <th>headline</th>\n",
       "      <th>urls</th>\n",
       "      <th>description</th>\n",
       "      <th>gender_y</th>\n",
       "      <th>inhouse_y</th>\n",
       "      <th>a_headline</th>\n",
       "      <th>a_profile</th>\n",
       "      <th>gender</th>\n",
       "      <th>inhouse</th>\n",
       "      <th>np_category</th>\n",
       "      <th>np_headline</th>\n",
       "      <th>likes</th>\n",
       "    </tr>\n",
       "  </thead>\n",
       "  <tbody>\n",
       "  </tbody>\n",
       "</table>\n",
       "</div>"
      ],
      "text/plain": [
       "Empty DataFrame\n",
       "Columns: [name, gender_x, inhouse_x, headline, urls, description, gender_y, inhouse_y, a_headline, a_profile, gender, inhouse, np_category, np_headline, likes]\n",
       "Index: []"
      ]
     },
     "execution_count": 56,
     "metadata": {},
     "output_type": "execute_result"
    }
   ],
   "source": [
    "dfnknpa [(dfnknpa['headline'].notna()) & (dfnknpa['np_category'].notna()) & (dfnknpa['a_headline'].notna()) ]"
   ]
  },
  {
   "cell_type": "markdown",
   "id": "1593d39a",
   "metadata": {},
   "source": [
    "## 13 experts are overlapped. However, no experts work with 3 media."
   ]
  },
  {
   "cell_type": "code",
   "execution_count": 57,
   "id": "8e15a8d7",
   "metadata": {},
   "outputs": [
    {
     "data": {
      "text/plain": [
       "93"
      ]
     },
     "execution_count": 57,
     "metadata": {},
     "output_type": "execute_result"
    }
   ],
   "source": [
    "len(dfnknpa[(dfnknpa['gender_x'] == 2) | (dfnknpa['gender_y'] == 2) | (dfnknpa['gender'] == 2)])"
   ]
  },
  {
   "cell_type": "code",
   "execution_count": 58,
   "id": "0c41b472",
   "metadata": {},
   "outputs": [
    {
     "data": {
      "text/plain": [
       "26"
      ]
     },
     "execution_count": 58,
     "metadata": {},
     "output_type": "execute_result"
    }
   ],
   "source": [
    "round(len(dfnknpa[(dfnknpa['gender_x'] == 2) | (dfnknpa['gender_y'] == 2) | (dfnknpa['gender'] == 2)]) / len(dfnknpa)*100)"
   ]
  },
  {
   "cell_type": "markdown",
   "id": "3632a128",
   "metadata": {},
   "source": [
    "### female experts ratio in 3 services is 26%"
   ]
  },
  {
   "cell_type": "code",
   "execution_count": 59,
   "id": "f3abf8a9",
   "metadata": {
    "scrolled": true
   },
   "outputs": [
    {
     "data": {
      "text/plain": [
       "60"
      ]
     },
     "execution_count": 59,
     "metadata": {},
     "output_type": "execute_result"
    }
   ],
   "source": [
    "len(dfnknpa[(dfnknpa['headline'].str.contains('教授')) | (dfnknpa['a_headline'].str.contains('教授')) | (dfnknpa['np_headline'].str.contains('教授'))])"
   ]
  },
  {
   "cell_type": "code",
   "execution_count": 81,
   "id": "c1a1e2be",
   "metadata": {},
   "outputs": [
    {
     "data": {
      "text/plain": [
       "17"
      ]
     },
     "execution_count": 81,
     "metadata": {},
     "output_type": "execute_result"
    }
   ],
   "source": [
    "round(60/360*100)"
   ]
  },
  {
   "cell_type": "markdown",
   "id": "db2101a9",
   "metadata": {},
   "source": [
    "## Professors (& incl: assistant professors)  are 60 people in 3 services"
   ]
  },
  {
   "cell_type": "code",
   "execution_count": 60,
   "id": "0a0202f2",
   "metadata": {},
   "outputs": [
    {
     "data": {
      "text/html": [
       "<div>\n",
       "<style scoped>\n",
       "    .dataframe tbody tr th:only-of-type {\n",
       "        vertical-align: middle;\n",
       "    }\n",
       "\n",
       "    .dataframe tbody tr th {\n",
       "        vertical-align: top;\n",
       "    }\n",
       "\n",
       "    .dataframe thead th {\n",
       "        text-align: right;\n",
       "    }\n",
       "</style>\n",
       "<table border=\"1\" class=\"dataframe\">\n",
       "  <thead>\n",
       "    <tr style=\"text-align: right;\">\n",
       "      <th></th>\n",
       "      <th>name</th>\n",
       "      <th>gender_x</th>\n",
       "      <th>inhouse_x</th>\n",
       "      <th>headline</th>\n",
       "      <th>urls</th>\n",
       "      <th>description</th>\n",
       "      <th>gender_y</th>\n",
       "      <th>inhouse_y</th>\n",
       "      <th>a_headline</th>\n",
       "      <th>a_profile</th>\n",
       "      <th>gender</th>\n",
       "      <th>inhouse</th>\n",
       "      <th>np_category</th>\n",
       "      <th>np_headline</th>\n",
       "      <th>likes</th>\n",
       "    </tr>\n",
       "  </thead>\n",
       "  <tbody>\n",
       "    <tr>\n",
       "      <th>0</th>\n",
       "      <td>青山瑠妙</td>\n",
       "      <td>2.0</td>\n",
       "      <td>NaN</td>\n",
       "      <td>早稲田大学大学院アジア太平洋研究科　教授</td>\n",
       "      <td>https://www.nikkei.com/topics/topic_expert_EVP...</td>\n",
       "      <td>早稲田大学現代中国研究所の所長。著書『現代中国の外交』は2008年に大平正芳記念賞を受賞。米...</td>\n",
       "      <td>NaN</td>\n",
       "      <td>NaN</td>\n",
       "      <td>NaN</td>\n",
       "      <td>NaN</td>\n",
       "      <td>NaN</td>\n",
       "      <td>NaN</td>\n",
       "      <td>NaN</td>\n",
       "      <td>NaN</td>\n",
       "      <td>NaN</td>\n",
       "    </tr>\n",
       "    <tr>\n",
       "      <th>5</th>\n",
       "      <td>新井紀子</td>\n",
       "      <td>2.0</td>\n",
       "      <td>NaN</td>\n",
       "      <td>国立情報学研究所　社会共有知研究センター　センター長・教授</td>\n",
       "      <td>https://www.nikkei.com/topics/topic_expert_EVP...</td>\n",
       "      <td>東京都出身。一橋大学法学部、米イリノイ大学数学科卒業。イリノイ大院を経て、東京工業大学博士（...</td>\n",
       "      <td>NaN</td>\n",
       "      <td>NaN</td>\n",
       "      <td>NaN</td>\n",
       "      <td>NaN</td>\n",
       "      <td>NaN</td>\n",
       "      <td>NaN</td>\n",
       "      <td>NaN</td>\n",
       "      <td>NaN</td>\n",
       "      <td>NaN</td>\n",
       "    </tr>\n",
       "    <tr>\n",
       "      <th>6</th>\n",
       "      <td>池内恵</td>\n",
       "      <td>1.0</td>\n",
       "      <td>NaN</td>\n",
       "      <td>東京大学先端科学技術研究センター　教授</td>\n",
       "      <td>https://www.nikkei.com/topics/topic_expert_EVP...</td>\n",
       "      <td>中東情勢を理解し、日本に伝えてきた第一人者。日本貿易振興機構アジア経済研究所研究員、国際日本...</td>\n",
       "      <td>NaN</td>\n",
       "      <td>NaN</td>\n",
       "      <td>NaN</td>\n",
       "      <td>NaN</td>\n",
       "      <td>1.0</td>\n",
       "      <td>NaN</td>\n",
       "      <td>国際</td>\n",
       "      <td>東京大学 先端科学技術研究センター教授（グローバルセキュリティ・宗教分野）</td>\n",
       "      <td>23595.0</td>\n",
       "    </tr>\n",
       "    <tr>\n",
       "      <th>7</th>\n",
       "      <td>池上彰</td>\n",
       "      <td>1.0</td>\n",
       "      <td>NaN</td>\n",
       "      <td>ジャーナリスト・東京工業大学特命教授</td>\n",
       "      <td>https://www.nikkei.com/topics/topic_expert_EVP...</td>\n",
       "      <td>1973年に記者としてＮＨＫ入局。東京社会部などで報道に携わった。94年から11年間、「週刊...</td>\n",
       "      <td>NaN</td>\n",
       "      <td>NaN</td>\n",
       "      <td>NaN</td>\n",
       "      <td>NaN</td>\n",
       "      <td>NaN</td>\n",
       "      <td>NaN</td>\n",
       "      <td>NaN</td>\n",
       "      <td>NaN</td>\n",
       "      <td>NaN</td>\n",
       "    </tr>\n",
       "    <tr>\n",
       "      <th>10</th>\n",
       "      <td>石倉洋子</td>\n",
       "      <td>2.0</td>\n",
       "      <td>NaN</td>\n",
       "      <td>一橋大学　名誉教授</td>\n",
       "      <td>https://www.nikkei.com/topics/topic_expert_EVP...</td>\n",
       "      <td>米バージニア大学大学院経営学修士（MBA）、ハーバード大学大学院経営学博士(DBA)修了。マ...</td>\n",
       "      <td>NaN</td>\n",
       "      <td>NaN</td>\n",
       "      <td>NaN</td>\n",
       "      <td>NaN</td>\n",
       "      <td>NaN</td>\n",
       "      <td>NaN</td>\n",
       "      <td>NaN</td>\n",
       "      <td>NaN</td>\n",
       "      <td>NaN</td>\n",
       "    </tr>\n",
       "    <tr>\n",
       "      <th>12</th>\n",
       "      <td>磯田道史</td>\n",
       "      <td>1.0</td>\n",
       "      <td>NaN</td>\n",
       "      <td>国際日本文化研究センター　教授</td>\n",
       "      <td>https://www.nikkei.com/topics/topic_expert_EVP...</td>\n",
       "      <td>1970年岡山市生まれ。94年慶応大文卒、2002年慶大院卒。博士(史学)。茨城大助教授、静...</td>\n",
       "      <td>NaN</td>\n",
       "      <td>NaN</td>\n",
       "      <td>NaN</td>\n",
       "      <td>NaN</td>\n",
       "      <td>NaN</td>\n",
       "      <td>NaN</td>\n",
       "      <td>NaN</td>\n",
       "      <td>NaN</td>\n",
       "      <td>NaN</td>\n",
       "    </tr>\n",
       "    <tr>\n",
       "      <th>16</th>\n",
       "      <td>岩間陽子</td>\n",
       "      <td>2.0</td>\n",
       "      <td>NaN</td>\n",
       "      <td>政策研究大学院大学 政策研究科　教授</td>\n",
       "      <td>https://www.nikkei.com/topics/topic_expert_EVP...</td>\n",
       "      <td>京都大学法学部卒業、同大学大学院博士後期課程修了。ドイツ留学時、ベルリンの壁の崩壊と東西冷戦...</td>\n",
       "      <td>NaN</td>\n",
       "      <td>NaN</td>\n",
       "      <td>NaN</td>\n",
       "      <td>NaN</td>\n",
       "      <td>NaN</td>\n",
       "      <td>NaN</td>\n",
       "      <td>NaN</td>\n",
       "      <td>NaN</td>\n",
       "      <td>NaN</td>\n",
       "    </tr>\n",
       "    <tr>\n",
       "      <th>20</th>\n",
       "      <td>大槻奈那</td>\n",
       "      <td>2.0</td>\n",
       "      <td>NaN</td>\n",
       "      <td>マネックス証券　専門役員チーフアナリスト</td>\n",
       "      <td>https://www.nikkei.com/topics/topic_expert_EVP...</td>\n",
       "      <td>スタンダード&amp;プアーズ、UBS、メリルリンチなどの金融機関でリサーチ業務に従事、各種メディア...</td>\n",
       "      <td>NaN</td>\n",
       "      <td>NaN</td>\n",
       "      <td>NaN</td>\n",
       "      <td>NaN</td>\n",
       "      <td>2.0</td>\n",
       "      <td>NaN</td>\n",
       "      <td>マネー</td>\n",
       "      <td>マネックス証券 執行役員 /名古屋商科大学大学院 教授</td>\n",
       "      <td>21667.0</td>\n",
       "    </tr>\n",
       "    <tr>\n",
       "      <th>21</th>\n",
       "      <td>大湾秀雄</td>\n",
       "      <td>1.0</td>\n",
       "      <td>NaN</td>\n",
       "      <td>早稲田大学　教授</td>\n",
       "      <td>https://www.nikkei.com/topics/topic_expert_EVP...</td>\n",
       "      <td>ニッポンの働き方を人事データから読み解く労働経済学者。1999年スタンフォード大学経営大学院...</td>\n",
       "      <td>NaN</td>\n",
       "      <td>NaN</td>\n",
       "      <td>NaN</td>\n",
       "      <td>NaN</td>\n",
       "      <td>NaN</td>\n",
       "      <td>NaN</td>\n",
       "      <td>NaN</td>\n",
       "      <td>NaN</td>\n",
       "      <td>NaN</td>\n",
       "    </tr>\n",
       "    <tr>\n",
       "      <th>22</th>\n",
       "      <td>小黒一正</td>\n",
       "      <td>1.0</td>\n",
       "      <td>NaN</td>\n",
       "      <td>法政大学経済学部　教授</td>\n",
       "      <td>https://www.nikkei.com/topics/topic_expert_EVP...</td>\n",
       "      <td>日本経済や財政問題といった骨太テーマに挑む論客。一橋大博士（経済学）。1997年大蔵省（現財...</td>\n",
       "      <td>NaN</td>\n",
       "      <td>NaN</td>\n",
       "      <td>NaN</td>\n",
       "      <td>NaN</td>\n",
       "      <td>NaN</td>\n",
       "      <td>NaN</td>\n",
       "      <td>NaN</td>\n",
       "      <td>NaN</td>\n",
       "      <td>NaN</td>\n",
       "    </tr>\n",
       "    <tr>\n",
       "      <th>27</th>\n",
       "      <td>楠木建</td>\n",
       "      <td>1.0</td>\n",
       "      <td>NaN</td>\n",
       "      <td>一橋大学　教授</td>\n",
       "      <td>https://www.nikkei.com/topics/topic_expert_EVP...</td>\n",
       "      <td>1992年一橋大学大学院商学研究科博士課程修了。同大商学部助教授、同大学院国際企業戦略研究科...</td>\n",
       "      <td>NaN</td>\n",
       "      <td>NaN</td>\n",
       "      <td>NaN</td>\n",
       "      <td>NaN</td>\n",
       "      <td>NaN</td>\n",
       "      <td>NaN</td>\n",
       "      <td>NaN</td>\n",
       "      <td>NaN</td>\n",
       "      <td>NaN</td>\n",
       "    </tr>\n",
       "    <tr>\n",
       "      <th>29</th>\n",
       "      <td>黒田忠広</td>\n",
       "      <td>1.0</td>\n",
       "      <td>NaN</td>\n",
       "      <td>東京大学大学院工学系研究科　教授</td>\n",
       "      <td>https://www.nikkei.com/topics/topic_expert_EVP...</td>\n",
       "      <td>1982年から18年間、東芝で半導体集積回路を研究開発。2000年から20年間、慶應義塾大学...</td>\n",
       "      <td>NaN</td>\n",
       "      <td>NaN</td>\n",
       "      <td>NaN</td>\n",
       "      <td>NaN</td>\n",
       "      <td>NaN</td>\n",
       "      <td>NaN</td>\n",
       "      <td>NaN</td>\n",
       "      <td>NaN</td>\n",
       "      <td>NaN</td>\n",
       "    </tr>\n",
       "    <tr>\n",
       "      <th>32</th>\n",
       "      <td>小島武仁</td>\n",
       "      <td>1.0</td>\n",
       "      <td>NaN</td>\n",
       "      <td>東京大学 大学院経済学研究科教授・マーケットデザインセンター所長</td>\n",
       "      <td>https://www.nikkei.com/topics/topic_expert_EVP...</td>\n",
       "      <td>経済学者。2003年東京大学卒業（経済学部総代）、2008年ハーバード大学経済学部博士。イェ...</td>\n",
       "      <td>NaN</td>\n",
       "      <td>NaN</td>\n",
       "      <td>NaN</td>\n",
       "      <td>NaN</td>\n",
       "      <td>NaN</td>\n",
       "      <td>NaN</td>\n",
       "      <td>NaN</td>\n",
       "      <td>NaN</td>\n",
       "      <td>NaN</td>\n",
       "    </tr>\n",
       "    <tr>\n",
       "      <th>40</th>\n",
       "      <td>鈴木一人</td>\n",
       "      <td>1.0</td>\n",
       "      <td>NaN</td>\n",
       "      <td>東京大学　公共政策大学院 教授</td>\n",
       "      <td>https://www.nikkei.com/topics/topic_expert_EVP...</td>\n",
       "      <td>2000年、英国サセックス大学ヨーロッパ研究所博士課程修了。筑波大学専任講師・准教授、北海道...</td>\n",
       "      <td>NaN</td>\n",
       "      <td>NaN</td>\n",
       "      <td>NaN</td>\n",
       "      <td>NaN</td>\n",
       "      <td>1.0</td>\n",
       "      <td>NaN</td>\n",
       "      <td>国際</td>\n",
       "      <td>東京大学 公共政策大学院教授</td>\n",
       "      <td>27800.0</td>\n",
       "    </tr>\n",
       "    <tr>\n",
       "      <th>41</th>\n",
       "      <td>鈴木亘</td>\n",
       "      <td>1.0</td>\n",
       "      <td>NaN</td>\n",
       "      <td>学習院大学経済学部　教授</td>\n",
       "      <td>https://www.nikkei.com/topics/topic_expert_EVP...</td>\n",
       "      <td>年金、医療など社会保障全般を精緻に分析・提言。1994年上智大卒、大阪大博士。日銀、日経セン...</td>\n",
       "      <td>NaN</td>\n",
       "      <td>NaN</td>\n",
       "      <td>NaN</td>\n",
       "      <td>NaN</td>\n",
       "      <td>NaN</td>\n",
       "      <td>NaN</td>\n",
       "      <td>NaN</td>\n",
       "      <td>NaN</td>\n",
       "      <td>NaN</td>\n",
       "    </tr>\n",
       "    <tr>\n",
       "      <th>46</th>\n",
       "      <td>高村ゆかり</td>\n",
       "      <td>2.0</td>\n",
       "      <td>NaN</td>\n",
       "      <td>東京大学未来ビジョン研究センター　教授</td>\n",
       "      <td>https://www.nikkei.com/topics/topic_expert_EVP...</td>\n",
       "      <td>グローバルな観点から環境・エネルギーを論じる「脱炭素」時代のオピニオン・リーダー。専門は国際...</td>\n",
       "      <td>NaN</td>\n",
       "      <td>NaN</td>\n",
       "      <td>NaN</td>\n",
       "      <td>NaN</td>\n",
       "      <td>NaN</td>\n",
       "      <td>NaN</td>\n",
       "      <td>NaN</td>\n",
       "      <td>NaN</td>\n",
       "      <td>NaN</td>\n",
       "    </tr>\n",
       "    <tr>\n",
       "      <th>48</th>\n",
       "      <td>詫摩佳代</td>\n",
       "      <td>2.0</td>\n",
       "      <td>NaN</td>\n",
       "      <td>東京都立大学　法学部教授</td>\n",
       "      <td>https://www.nikkei.com/topics/topic_expert_EVP...</td>\n",
       "      <td>1981年生まれ。東京大学大学院総合文化研究科国際関係論博士課程単位取得退学、博士（学術）。...</td>\n",
       "      <td>NaN</td>\n",
       "      <td>NaN</td>\n",
       "      <td>NaN</td>\n",
       "      <td>NaN</td>\n",
       "      <td>NaN</td>\n",
       "      <td>NaN</td>\n",
       "      <td>NaN</td>\n",
       "      <td>NaN</td>\n",
       "      <td>NaN</td>\n",
       "    </tr>\n",
       "    <tr>\n",
       "      <th>53</th>\n",
       "      <td>竹中治堅</td>\n",
       "      <td>1.0</td>\n",
       "      <td>NaN</td>\n",
       "      <td>政策研究大学院大学　教授</td>\n",
       "      <td>https://www.nikkei.com/topics/topic_expert_EVP...</td>\n",
       "      <td>日本政治、比較政治の研究、教育をしています。関心は首相の指導力、コロナ危機への対応過程、参議...</td>\n",
       "      <td>NaN</td>\n",
       "      <td>NaN</td>\n",
       "      <td>NaN</td>\n",
       "      <td>NaN</td>\n",
       "      <td>NaN</td>\n",
       "      <td>NaN</td>\n",
       "      <td>NaN</td>\n",
       "      <td>NaN</td>\n",
       "      <td>NaN</td>\n",
       "    </tr>\n",
       "    <tr>\n",
       "      <th>57</th>\n",
       "      <td>津川友介</td>\n",
       "      <td>1.0</td>\n",
       "      <td>NaN</td>\n",
       "      <td>米カリフォルニア大学ロサンゼルス校（UCLA）　助教授・医師</td>\n",
       "      <td>https://www.nikkei.com/topics/topic_expert_EVP...</td>\n",
       "      <td>東北大学医学部卒、ハーバード大学で博士号（PhD）を取得。聖路加国際病院、世界銀行、ハーバー...</td>\n",
       "      <td>NaN</td>\n",
       "      <td>NaN</td>\n",
       "      <td>NaN</td>\n",
       "      <td>NaN</td>\n",
       "      <td>NaN</td>\n",
       "      <td>NaN</td>\n",
       "      <td>NaN</td>\n",
       "      <td>NaN</td>\n",
       "      <td>NaN</td>\n",
       "    </tr>\n",
       "    <tr>\n",
       "      <th>62</th>\n",
       "      <td>中林美恵子</td>\n",
       "      <td>2.0</td>\n",
       "      <td>NaN</td>\n",
       "      <td>早稲田大学　社会科学部教授</td>\n",
       "      <td>https://www.nikkei.com/topics/topic_expert_EVP...</td>\n",
       "      <td>大阪大学博士（国際公共政策）。1992年米国ワシントン州立大学大学院を修了し約10年間、米国...</td>\n",
       "      <td>NaN</td>\n",
       "      <td>NaN</td>\n",
       "      <td>NaN</td>\n",
       "      <td>NaN</td>\n",
       "      <td>NaN</td>\n",
       "      <td>NaN</td>\n",
       "      <td>NaN</td>\n",
       "      <td>NaN</td>\n",
       "      <td>NaN</td>\n",
       "    </tr>\n",
       "    <tr>\n",
       "      <th>66</th>\n",
       "      <td>中室牧子</td>\n",
       "      <td>2.0</td>\n",
       "      <td>NaN</td>\n",
       "      <td>慶応義塾大学　総合政策学部教授</td>\n",
       "      <td>https://www.nikkei.com/topics/topic_expert_EVP...</td>\n",
       "      <td>慶応義塾大学卒業、米コロンビア大博士。教育の効果を「エビデンス（証拠）」で示す研究の第一人者...</td>\n",
       "      <td>NaN</td>\n",
       "      <td>NaN</td>\n",
       "      <td>NaN</td>\n",
       "      <td>NaN</td>\n",
       "      <td>NaN</td>\n",
       "      <td>NaN</td>\n",
       "      <td>NaN</td>\n",
       "      <td>NaN</td>\n",
       "      <td>NaN</td>\n",
       "    </tr>\n",
       "    <tr>\n",
       "      <th>68</th>\n",
       "      <td>野崎浩成</td>\n",
       "      <td>1.0</td>\n",
       "      <td>NaN</td>\n",
       "      <td>東洋大学　国際学部教授</td>\n",
       "      <td>https://www.nikkei.com/topics/topic_expert_EVP...</td>\n",
       "      <td>86年慶大経卒、91年米エール大院修了。あさひ銀行、シティグループ証券などを経て、18年から...</td>\n",
       "      <td>NaN</td>\n",
       "      <td>NaN</td>\n",
       "      <td>NaN</td>\n",
       "      <td>NaN</td>\n",
       "      <td>NaN</td>\n",
       "      <td>NaN</td>\n",
       "      <td>NaN</td>\n",
       "      <td>NaN</td>\n",
       "      <td>NaN</td>\n",
       "    </tr>\n",
       "    <tr>\n",
       "      <th>76</th>\n",
       "      <td>細谷雄一</td>\n",
       "      <td>1.0</td>\n",
       "      <td>NaN</td>\n",
       "      <td>慶應義塾大学法学部　教授</td>\n",
       "      <td>https://www.nikkei.com/topics/topic_expert_EVP...</td>\n",
       "      <td>立教大学法学部卒業。英国バーミンガム大学大学院国際関係学修士号取得。慶應義塾大学大学院法学研...</td>\n",
       "      <td>NaN</td>\n",
       "      <td>NaN</td>\n",
       "      <td>NaN</td>\n",
       "      <td>NaN</td>\n",
       "      <td>NaN</td>\n",
       "      <td>NaN</td>\n",
       "      <td>NaN</td>\n",
       "      <td>NaN</td>\n",
       "      <td>NaN</td>\n",
       "    </tr>\n",
       "    <tr>\n",
       "      <th>86</th>\n",
       "      <td>山崎俊彦</td>\n",
       "      <td>1.0</td>\n",
       "      <td>NaN</td>\n",
       "      <td>東京大学　大学院情報理工学系研究科 准教授</td>\n",
       "      <td>https://www.nikkei.com/topics/topic_expert_EVP...</td>\n",
       "      <td>東京大学大学院工学系研究科電子工学専攻修了。博士（工学）。2011～2013年、米国・コーネ...</td>\n",
       "      <td>NaN</td>\n",
       "      <td>NaN</td>\n",
       "      <td>NaN</td>\n",
       "      <td>NaN</td>\n",
       "      <td>1.0</td>\n",
       "      <td>NaN</td>\n",
       "      <td>テクノロジー</td>\n",
       "      <td>東京大学 大学院情報理工学系研究科電子情報学専攻　准教授</td>\n",
       "      <td>94902.0</td>\n",
       "    </tr>\n",
       "    <tr>\n",
       "      <th>94</th>\n",
       "      <td>遠藤乾</td>\n",
       "      <td>NaN</td>\n",
       "      <td>NaN</td>\n",
       "      <td>NaN</td>\n",
       "      <td>NaN</td>\n",
       "      <td>NaN</td>\n",
       "      <td>1.0</td>\n",
       "      <td>NaN</td>\n",
       "      <td>北海道大学公共政策大学院教授</td>\n",
       "      <td>1966年生まれ。北海道大学法学部卒、同大学大学院法学研究科修士課程修了。ベルギー・カトリッ...</td>\n",
       "      <td>1.0</td>\n",
       "      <td>NaN</td>\n",
       "      <td>国際</td>\n",
       "      <td>北海道大学法学部・公共政策大学院教授（政治学、国際政治）</td>\n",
       "      <td>5360.0</td>\n",
       "    </tr>\n",
       "    <tr>\n",
       "      <th>151</th>\n",
       "      <td>岩嵜博論</td>\n",
       "      <td>NaN</td>\n",
       "      <td>NaN</td>\n",
       "      <td>NaN</td>\n",
       "      <td>NaN</td>\n",
       "      <td>NaN</td>\n",
       "      <td>NaN</td>\n",
       "      <td>NaN</td>\n",
       "      <td>NaN</td>\n",
       "      <td>NaN</td>\n",
       "      <td>1.0</td>\n",
       "      <td>NaN</td>\n",
       "      <td>7月のプロピッカー</td>\n",
       "      <td>武蔵野美術大学 クリエイティブイノベーション学科 教授</td>\n",
       "      <td>108.0</td>\n",
       "    </tr>\n",
       "    <tr>\n",
       "      <th>157</th>\n",
       "      <td>瀬地山角</td>\n",
       "      <td>NaN</td>\n",
       "      <td>NaN</td>\n",
       "      <td>NaN</td>\n",
       "      <td>NaN</td>\n",
       "      <td>NaN</td>\n",
       "      <td>NaN</td>\n",
       "      <td>NaN</td>\n",
       "      <td>NaN</td>\n",
       "      <td>NaN</td>\n",
       "      <td>1.0</td>\n",
       "      <td>NaN</td>\n",
       "      <td>社会</td>\n",
       "      <td>東京大学　総合文化研究科 教授</td>\n",
       "      <td>3106.0</td>\n",
       "    </tr>\n",
       "    <tr>\n",
       "      <th>162</th>\n",
       "      <td>豊田啓介</td>\n",
       "      <td>NaN</td>\n",
       "      <td>NaN</td>\n",
       "      <td>NaN</td>\n",
       "      <td>NaN</td>\n",
       "      <td>NaN</td>\n",
       "      <td>NaN</td>\n",
       "      <td>NaN</td>\n",
       "      <td>NaN</td>\n",
       "      <td>NaN</td>\n",
       "      <td>1.0</td>\n",
       "      <td>NaN</td>\n",
       "      <td>社会</td>\n",
       "      <td>建築家、noizパートナー、gluonパートナー、東京大学生産技術研究所客員教授</td>\n",
       "      <td>3276.0</td>\n",
       "    </tr>\n",
       "    <tr>\n",
       "      <th>164</th>\n",
       "      <td>白河桃子</td>\n",
       "      <td>NaN</td>\n",
       "      <td>NaN</td>\n",
       "      <td>NaN</td>\n",
       "      <td>NaN</td>\n",
       "      <td>NaN</td>\n",
       "      <td>NaN</td>\n",
       "      <td>NaN</td>\n",
       "      <td>NaN</td>\n",
       "      <td>NaN</td>\n",
       "      <td>2.0</td>\n",
       "      <td>NaN</td>\n",
       "      <td>社会</td>\n",
       "      <td>相模女子大学特任教授　新刊「働かないおじさんが御社をダメにする」</td>\n",
       "      <td>21451.0</td>\n",
       "    </tr>\n",
       "    <tr>\n",
       "      <th>170</th>\n",
       "      <td>柳瀬博一</td>\n",
       "      <td>NaN</td>\n",
       "      <td>NaN</td>\n",
       "      <td>NaN</td>\n",
       "      <td>NaN</td>\n",
       "      <td>NaN</td>\n",
       "      <td>NaN</td>\n",
       "      <td>NaN</td>\n",
       "      <td>NaN</td>\n",
       "      <td>NaN</td>\n",
       "      <td>1.0</td>\n",
       "      <td>NaN</td>\n",
       "      <td>社会</td>\n",
       "      <td>東京工業大学 リベラルアーツ研究教育院　教授</td>\n",
       "      <td>1307.0</td>\n",
       "    </tr>\n",
       "    <tr>\n",
       "      <th>172</th>\n",
       "      <td>高橋義仁</td>\n",
       "      <td>NaN</td>\n",
       "      <td>NaN</td>\n",
       "      <td>NaN</td>\n",
       "      <td>NaN</td>\n",
       "      <td>NaN</td>\n",
       "      <td>NaN</td>\n",
       "      <td>NaN</td>\n",
       "      <td>NaN</td>\n",
       "      <td>NaN</td>\n",
       "      <td>1.0</td>\n",
       "      <td>NaN</td>\n",
       "      <td>社会</td>\n",
       "      <td>専修大学 商学部教授</td>\n",
       "      <td>13468.0</td>\n",
       "    </tr>\n",
       "    <tr>\n",
       "      <th>175</th>\n",
       "      <td>千葉知世</td>\n",
       "      <td>NaN</td>\n",
       "      <td>NaN</td>\n",
       "      <td>NaN</td>\n",
       "      <td>NaN</td>\n",
       "      <td>NaN</td>\n",
       "      <td>NaN</td>\n",
       "      <td>NaN</td>\n",
       "      <td>NaN</td>\n",
       "      <td>NaN</td>\n",
       "      <td>2.0</td>\n",
       "      <td>NaN</td>\n",
       "      <td>社会</td>\n",
       "      <td>大阪府立大学  准教授</td>\n",
       "      <td>6735.0</td>\n",
       "    </tr>\n",
       "    <tr>\n",
       "      <th>183</th>\n",
       "      <td>小野坂優子</td>\n",
       "      <td>NaN</td>\n",
       "      <td>NaN</td>\n",
       "      <td>NaN</td>\n",
       "      <td>NaN</td>\n",
       "      <td>NaN</td>\n",
       "      <td>NaN</td>\n",
       "      <td>NaN</td>\n",
       "      <td>NaN</td>\n",
       "      <td>NaN</td>\n",
       "      <td>2.0</td>\n",
       "      <td>NaN</td>\n",
       "      <td>社会</td>\n",
       "      <td>スタヴァンゲル大学 教授</td>\n",
       "      <td>4406.0</td>\n",
       "    </tr>\n",
       "    <tr>\n",
       "      <th>193</th>\n",
       "      <td>鎌倉夏来</td>\n",
       "      <td>NaN</td>\n",
       "      <td>NaN</td>\n",
       "      <td>NaN</td>\n",
       "      <td>NaN</td>\n",
       "      <td>NaN</td>\n",
       "      <td>NaN</td>\n",
       "      <td>NaN</td>\n",
       "      <td>NaN</td>\n",
       "      <td>NaN</td>\n",
       "      <td>2.0</td>\n",
       "      <td>NaN</td>\n",
       "      <td>社会</td>\n",
       "      <td>東京大学 総合文化研究科 准教授</td>\n",
       "      <td>977.0</td>\n",
       "    </tr>\n",
       "    <tr>\n",
       "      <th>196</th>\n",
       "      <td>小谷賢</td>\n",
       "      <td>NaN</td>\n",
       "      <td>NaN</td>\n",
       "      <td>NaN</td>\n",
       "      <td>NaN</td>\n",
       "      <td>NaN</td>\n",
       "      <td>NaN</td>\n",
       "      <td>NaN</td>\n",
       "      <td>NaN</td>\n",
       "      <td>NaN</td>\n",
       "      <td>1.0</td>\n",
       "      <td>NaN</td>\n",
       "      <td>国際</td>\n",
       "      <td>日本大学　危機管理学部 教授</td>\n",
       "      <td>21252.0</td>\n",
       "    </tr>\n",
       "    <tr>\n",
       "      <th>198</th>\n",
       "      <td>塩崎悠輝</td>\n",
       "      <td>NaN</td>\n",
       "      <td>NaN</td>\n",
       "      <td>NaN</td>\n",
       "      <td>NaN</td>\n",
       "      <td>NaN</td>\n",
       "      <td>NaN</td>\n",
       "      <td>NaN</td>\n",
       "      <td>NaN</td>\n",
       "      <td>NaN</td>\n",
       "      <td>1.0</td>\n",
       "      <td>NaN</td>\n",
       "      <td>国際</td>\n",
       "      <td>静岡県立大学国際関係学部 准教授</td>\n",
       "      <td>94373.0</td>\n",
       "    </tr>\n",
       "    <tr>\n",
       "      <th>199</th>\n",
       "      <td>武貞秀士</td>\n",
       "      <td>NaN</td>\n",
       "      <td>NaN</td>\n",
       "      <td>NaN</td>\n",
       "      <td>NaN</td>\n",
       "      <td>NaN</td>\n",
       "      <td>NaN</td>\n",
       "      <td>NaN</td>\n",
       "      <td>NaN</td>\n",
       "      <td>NaN</td>\n",
       "      <td>1.0</td>\n",
       "      <td>NaN</td>\n",
       "      <td>国際</td>\n",
       "      <td>拓殖大学大学院 客員教授</td>\n",
       "      <td>45216.0</td>\n",
       "    </tr>\n",
       "    <tr>\n",
       "      <th>200</th>\n",
       "      <td>薬師院仁志</td>\n",
       "      <td>NaN</td>\n",
       "      <td>NaN</td>\n",
       "      <td>NaN</td>\n",
       "      <td>NaN</td>\n",
       "      <td>NaN</td>\n",
       "      <td>NaN</td>\n",
       "      <td>NaN</td>\n",
       "      <td>NaN</td>\n",
       "      <td>NaN</td>\n",
       "      <td>1.0</td>\n",
       "      <td>NaN</td>\n",
       "      <td>国際</td>\n",
       "      <td>帝塚山学院大学 教授</td>\n",
       "      <td>21848.0</td>\n",
       "    </tr>\n",
       "    <tr>\n",
       "      <th>205</th>\n",
       "      <td>前嶋和弘</td>\n",
       "      <td>NaN</td>\n",
       "      <td>NaN</td>\n",
       "      <td>NaN</td>\n",
       "      <td>NaN</td>\n",
       "      <td>NaN</td>\n",
       "      <td>NaN</td>\n",
       "      <td>NaN</td>\n",
       "      <td>NaN</td>\n",
       "      <td>NaN</td>\n",
       "      <td>1.0</td>\n",
       "      <td>NaN</td>\n",
       "      <td>国際</td>\n",
       "      <td>上智大学 総合グローバル学部教授（現代アメリカ政治外交）</td>\n",
       "      <td>22853.0</td>\n",
       "    </tr>\n",
       "    <tr>\n",
       "      <th>207</th>\n",
       "      <td>細川昌彦</td>\n",
       "      <td>NaN</td>\n",
       "      <td>NaN</td>\n",
       "      <td>NaN</td>\n",
       "      <td>NaN</td>\n",
       "      <td>NaN</td>\n",
       "      <td>NaN</td>\n",
       "      <td>NaN</td>\n",
       "      <td>NaN</td>\n",
       "      <td>NaN</td>\n",
       "      <td>1.0</td>\n",
       "      <td>NaN</td>\n",
       "      <td>国際</td>\n",
       "      <td>明星大学 経営学部教授</td>\n",
       "      <td>11748.0</td>\n",
       "    </tr>\n",
       "    <tr>\n",
       "      <th>219</th>\n",
       "      <td>福田峰之</td>\n",
       "      <td>NaN</td>\n",
       "      <td>NaN</td>\n",
       "      <td>NaN</td>\n",
       "      <td>NaN</td>\n",
       "      <td>NaN</td>\n",
       "      <td>NaN</td>\n",
       "      <td>NaN</td>\n",
       "      <td>NaN</td>\n",
       "      <td>NaN</td>\n",
       "      <td>1.0</td>\n",
       "      <td>NaN</td>\n",
       "      <td>政治・行政</td>\n",
       "      <td>前衆議院議員・多摩大学ルール形成戦略研究所客員教授</td>\n",
       "      <td>7582.0</td>\n",
       "    </tr>\n",
       "    <tr>\n",
       "      <th>230</th>\n",
       "      <td>西村友作</td>\n",
       "      <td>NaN</td>\n",
       "      <td>NaN</td>\n",
       "      <td>NaN</td>\n",
       "      <td>NaN</td>\n",
       "      <td>NaN</td>\n",
       "      <td>NaN</td>\n",
       "      <td>NaN</td>\n",
       "      <td>NaN</td>\n",
       "      <td>NaN</td>\n",
       "      <td>1.0</td>\n",
       "      <td>NaN</td>\n",
       "      <td>経済</td>\n",
       "      <td>中国 対外経済貿易大学 国際経済研究院 教授</td>\n",
       "      <td>28935.0</td>\n",
       "    </tr>\n",
       "    <tr>\n",
       "      <th>231</th>\n",
       "      <td>土居丈朗</td>\n",
       "      <td>NaN</td>\n",
       "      <td>NaN</td>\n",
       "      <td>NaN</td>\n",
       "      <td>NaN</td>\n",
       "      <td>NaN</td>\n",
       "      <td>NaN</td>\n",
       "      <td>NaN</td>\n",
       "      <td>NaN</td>\n",
       "      <td>NaN</td>\n",
       "      <td>1.0</td>\n",
       "      <td>NaN</td>\n",
       "      <td>経済</td>\n",
       "      <td>慶應義塾大学 経済学部教授</td>\n",
       "      <td>17116.0</td>\n",
       "    </tr>\n",
       "    <tr>\n",
       "      <th>234</th>\n",
       "      <td>大竹文雄</td>\n",
       "      <td>NaN</td>\n",
       "      <td>NaN</td>\n",
       "      <td>NaN</td>\n",
       "      <td>NaN</td>\n",
       "      <td>NaN</td>\n",
       "      <td>NaN</td>\n",
       "      <td>NaN</td>\n",
       "      <td>NaN</td>\n",
       "      <td>NaN</td>\n",
       "      <td>1.0</td>\n",
       "      <td>NaN</td>\n",
       "      <td>経済</td>\n",
       "      <td>大阪大学 経済学研究科 教授</td>\n",
       "      <td>27474.0</td>\n",
       "    </tr>\n",
       "    <tr>\n",
       "      <th>250</th>\n",
       "      <td>野﨑浩成</td>\n",
       "      <td>NaN</td>\n",
       "      <td>NaN</td>\n",
       "      <td>NaN</td>\n",
       "      <td>NaN</td>\n",
       "      <td>NaN</td>\n",
       "      <td>NaN</td>\n",
       "      <td>NaN</td>\n",
       "      <td>NaN</td>\n",
       "      <td>NaN</td>\n",
       "      <td>1.0</td>\n",
       "      <td>NaN</td>\n",
       "      <td>マネー</td>\n",
       "      <td>東洋大学 教授</td>\n",
       "      <td>69490.0</td>\n",
       "    </tr>\n",
       "    <tr>\n",
       "      <th>258</th>\n",
       "      <td>松木隆志</td>\n",
       "      <td>NaN</td>\n",
       "      <td>NaN</td>\n",
       "      <td>NaN</td>\n",
       "      <td>NaN</td>\n",
       "      <td>NaN</td>\n",
       "      <td>NaN</td>\n",
       "      <td>NaN</td>\n",
       "      <td>NaN</td>\n",
       "      <td>NaN</td>\n",
       "      <td>1.0</td>\n",
       "      <td>NaN</td>\n",
       "      <td>ヘルスケア</td>\n",
       "      <td>マウントサイナイ医科大学 精神科 助教授</td>\n",
       "      <td>2615.0</td>\n",
       "    </tr>\n",
       "    <tr>\n",
       "      <th>265</th>\n",
       "      <td>松永エリック・匡史</td>\n",
       "      <td>NaN</td>\n",
       "      <td>NaN</td>\n",
       "      <td>NaN</td>\n",
       "      <td>NaN</td>\n",
       "      <td>NaN</td>\n",
       "      <td>NaN</td>\n",
       "      <td>NaN</td>\n",
       "      <td>NaN</td>\n",
       "      <td>NaN</td>\n",
       "      <td>1.0</td>\n",
       "      <td>NaN</td>\n",
       "      <td>ビジネス</td>\n",
       "      <td>青山学院大学 教授 アバナード株式会社 デジタル最高顧問</td>\n",
       "      <td>18023.0</td>\n",
       "    </tr>\n",
       "    <tr>\n",
       "      <th>266</th>\n",
       "      <td>宇田川元一</td>\n",
       "      <td>NaN</td>\n",
       "      <td>NaN</td>\n",
       "      <td>NaN</td>\n",
       "      <td>NaN</td>\n",
       "      <td>NaN</td>\n",
       "      <td>NaN</td>\n",
       "      <td>NaN</td>\n",
       "      <td>NaN</td>\n",
       "      <td>NaN</td>\n",
       "      <td>1.0</td>\n",
       "      <td>NaN</td>\n",
       "      <td>ビジネス</td>\n",
       "      <td>埼玉大学経済経営系大学院 准教授</td>\n",
       "      <td>11944.0</td>\n",
       "    </tr>\n",
       "    <tr>\n",
       "      <th>277</th>\n",
       "      <td>田中道昭</td>\n",
       "      <td>NaN</td>\n",
       "      <td>NaN</td>\n",
       "      <td>NaN</td>\n",
       "      <td>NaN</td>\n",
       "      <td>NaN</td>\n",
       "      <td>NaN</td>\n",
       "      <td>NaN</td>\n",
       "      <td>NaN</td>\n",
       "      <td>NaN</td>\n",
       "      <td>1.0</td>\n",
       "      <td>NaN</td>\n",
       "      <td>ビジネス</td>\n",
       "      <td>立教大学ビジネススクール 教授</td>\n",
       "      <td>22692.0</td>\n",
       "    </tr>\n",
       "    <tr>\n",
       "      <th>287</th>\n",
       "      <td>松田琢磨</td>\n",
       "      <td>NaN</td>\n",
       "      <td>NaN</td>\n",
       "      <td>NaN</td>\n",
       "      <td>NaN</td>\n",
       "      <td>NaN</td>\n",
       "      <td>NaN</td>\n",
       "      <td>NaN</td>\n",
       "      <td>NaN</td>\n",
       "      <td>NaN</td>\n",
       "      <td>1.0</td>\n",
       "      <td>NaN</td>\n",
       "      <td>ビジネス</td>\n",
       "      <td>拓殖大学商学部 教授</td>\n",
       "      <td>2207.0</td>\n",
       "    </tr>\n",
       "    <tr>\n",
       "      <th>289</th>\n",
       "      <td>中島好美</td>\n",
       "      <td>NaN</td>\n",
       "      <td>NaN</td>\n",
       "      <td>NaN</td>\n",
       "      <td>NaN</td>\n",
       "      <td>NaN</td>\n",
       "      <td>NaN</td>\n",
       "      <td>NaN</td>\n",
       "      <td>NaN</td>\n",
       "      <td>NaN</td>\n",
       "      <td>2.0</td>\n",
       "      <td>NaN</td>\n",
       "      <td>ビジネス</td>\n",
       "      <td>事業構想大学院大学 特任教授</td>\n",
       "      <td>13799.0</td>\n",
       "    </tr>\n",
       "    <tr>\n",
       "      <th>291</th>\n",
       "      <td>松田千恵子</td>\n",
       "      <td>NaN</td>\n",
       "      <td>NaN</td>\n",
       "      <td>NaN</td>\n",
       "      <td>NaN</td>\n",
       "      <td>NaN</td>\n",
       "      <td>NaN</td>\n",
       "      <td>NaN</td>\n",
       "      <td>NaN</td>\n",
       "      <td>NaN</td>\n",
       "      <td>2.0</td>\n",
       "      <td>NaN</td>\n",
       "      <td>ビジネス</td>\n",
       "      <td>東京都立大学 東京都立大学大学院　経営学研究科　教授</td>\n",
       "      <td>9059.0</td>\n",
       "    </tr>\n",
       "    <tr>\n",
       "      <th>308</th>\n",
       "      <td>武井涼子</td>\n",
       "      <td>NaN</td>\n",
       "      <td>NaN</td>\n",
       "      <td>NaN</td>\n",
       "      <td>NaN</td>\n",
       "      <td>NaN</td>\n",
       "      <td>NaN</td>\n",
       "      <td>NaN</td>\n",
       "      <td>NaN</td>\n",
       "      <td>NaN</td>\n",
       "      <td>2.0</td>\n",
       "      <td>NaN</td>\n",
       "      <td>ビジネス</td>\n",
       "      <td>グロービス経営大学院大学／二期会  准教授／声楽家</td>\n",
       "      <td>79658.0</td>\n",
       "    </tr>\n",
       "    <tr>\n",
       "      <th>323</th>\n",
       "      <td>若林秀樹</td>\n",
       "      <td>NaN</td>\n",
       "      <td>NaN</td>\n",
       "      <td>NaN</td>\n",
       "      <td>NaN</td>\n",
       "      <td>NaN</td>\n",
       "      <td>NaN</td>\n",
       "      <td>NaN</td>\n",
       "      <td>NaN</td>\n",
       "      <td>NaN</td>\n",
       "      <td>1.0</td>\n",
       "      <td>NaN</td>\n",
       "      <td>テクノロジー</td>\n",
       "      <td>東京理科大学　大学院経営学研究科技術経営(MOT)専攻　兼　総合研究院　技術経営金融工学社会...</td>\n",
       "      <td>100207.0</td>\n",
       "    </tr>\n",
       "    <tr>\n",
       "      <th>324</th>\n",
       "      <td>秋田夏実</td>\n",
       "      <td>NaN</td>\n",
       "      <td>NaN</td>\n",
       "      <td>NaN</td>\n",
       "      <td>NaN</td>\n",
       "      <td>NaN</td>\n",
       "      <td>NaN</td>\n",
       "      <td>NaN</td>\n",
       "      <td>NaN</td>\n",
       "      <td>NaN</td>\n",
       "      <td>2.0</td>\n",
       "      <td>NaN</td>\n",
       "      <td>テクノロジー</td>\n",
       "      <td>アドビ/情報経営イノベーション専門職大学客員教授/やまなし大使</td>\n",
       "      <td>21232.0</td>\n",
       "    </tr>\n",
       "    <tr>\n",
       "      <th>327</th>\n",
       "      <td>牧野泰才</td>\n",
       "      <td>NaN</td>\n",
       "      <td>NaN</td>\n",
       "      <td>NaN</td>\n",
       "      <td>NaN</td>\n",
       "      <td>NaN</td>\n",
       "      <td>NaN</td>\n",
       "      <td>NaN</td>\n",
       "      <td>NaN</td>\n",
       "      <td>NaN</td>\n",
       "      <td>1.0</td>\n",
       "      <td>NaN</td>\n",
       "      <td>テクノロジー</td>\n",
       "      <td>東京大学大学院新領域創成科学研究科 准教授</td>\n",
       "      <td>55479.0</td>\n",
       "    </tr>\n",
       "    <tr>\n",
       "      <th>329</th>\n",
       "      <td>早崎公威</td>\n",
       "      <td>NaN</td>\n",
       "      <td>NaN</td>\n",
       "      <td>NaN</td>\n",
       "      <td>NaN</td>\n",
       "      <td>NaN</td>\n",
       "      <td>NaN</td>\n",
       "      <td>NaN</td>\n",
       "      <td>NaN</td>\n",
       "      <td>NaN</td>\n",
       "      <td>1.0</td>\n",
       "      <td>NaN</td>\n",
       "      <td>テクノロジー</td>\n",
       "      <td>忠北大学 天文宇宙科学科 准教授</td>\n",
       "      <td>60151.0</td>\n",
       "    </tr>\n",
       "    <tr>\n",
       "      <th>334</th>\n",
       "      <td>土屋武司</td>\n",
       "      <td>NaN</td>\n",
       "      <td>NaN</td>\n",
       "      <td>NaN</td>\n",
       "      <td>NaN</td>\n",
       "      <td>NaN</td>\n",
       "      <td>NaN</td>\n",
       "      <td>NaN</td>\n",
       "      <td>NaN</td>\n",
       "      <td>NaN</td>\n",
       "      <td>1.0</td>\n",
       "      <td>NaN</td>\n",
       "      <td>テクノロジー</td>\n",
       "      <td>東京大学 大学院工学系研究科 航空宇宙工学専攻 教授</td>\n",
       "      <td>58765.0</td>\n",
       "    </tr>\n",
       "    <tr>\n",
       "      <th>336</th>\n",
       "      <td>西尾素己</td>\n",
       "      <td>NaN</td>\n",
       "      <td>NaN</td>\n",
       "      <td>NaN</td>\n",
       "      <td>NaN</td>\n",
       "      <td>NaN</td>\n",
       "      <td>NaN</td>\n",
       "      <td>NaN</td>\n",
       "      <td>NaN</td>\n",
       "      <td>NaN</td>\n",
       "      <td>1.0</td>\n",
       "      <td>NaN</td>\n",
       "      <td>テクノロジー</td>\n",
       "      <td>多摩大学ルール形成戦略研究所 客員教授</td>\n",
       "      <td>20067.0</td>\n",
       "    </tr>\n",
       "    <tr>\n",
       "      <th>356</th>\n",
       "      <td>小宮山利恵子</td>\n",
       "      <td>NaN</td>\n",
       "      <td>NaN</td>\n",
       "      <td>NaN</td>\n",
       "      <td>NaN</td>\n",
       "      <td>NaN</td>\n",
       "      <td>NaN</td>\n",
       "      <td>NaN</td>\n",
       "      <td>NaN</td>\n",
       "      <td>NaN</td>\n",
       "      <td>2.0</td>\n",
       "      <td>NaN</td>\n",
       "      <td>キャリア</td>\n",
       "      <td>スタディサプリ教育AI研究所所長、東京学芸大学大学院准教授</td>\n",
       "      <td>160747.0</td>\n",
       "    </tr>\n",
       "  </tbody>\n",
       "</table>\n",
       "</div>"
      ],
      "text/plain": [
       "          name  gender_x inhouse_x                          headline  \\\n",
       "0         青山瑠妙       2.0       NaN              早稲田大学大学院アジア太平洋研究科　教授   \n",
       "5         新井紀子       2.0       NaN     国立情報学研究所　社会共有知研究センター　センター長・教授   \n",
       "6          池内恵       1.0       NaN               東京大学先端科学技術研究センター　教授   \n",
       "7          池上彰       1.0       NaN                ジャーナリスト・東京工業大学特命教授   \n",
       "10        石倉洋子       2.0       NaN                         一橋大学　名誉教授   \n",
       "12        磯田道史       1.0       NaN                   国際日本文化研究センター　教授   \n",
       "16        岩間陽子       2.0       NaN                政策研究大学院大学 政策研究科　教授   \n",
       "20        大槻奈那       2.0       NaN              マネックス証券　専門役員チーフアナリスト   \n",
       "21        大湾秀雄       1.0       NaN                          早稲田大学　教授   \n",
       "22        小黒一正       1.0       NaN                       法政大学経済学部　教授   \n",
       "27         楠木建       1.0       NaN                           一橋大学　教授   \n",
       "29        黒田忠広       1.0       NaN                  東京大学大学院工学系研究科　教授   \n",
       "32        小島武仁       1.0       NaN  東京大学 大学院経済学研究科教授・マーケットデザインセンター所長   \n",
       "40        鈴木一人       1.0       NaN                   東京大学　公共政策大学院 教授   \n",
       "41         鈴木亘       1.0       NaN                      学習院大学経済学部　教授   \n",
       "46       高村ゆかり       2.0       NaN               東京大学未来ビジョン研究センター　教授   \n",
       "48        詫摩佳代       2.0       NaN                      東京都立大学　法学部教授   \n",
       "53        竹中治堅       1.0       NaN                      政策研究大学院大学　教授   \n",
       "57        津川友介       1.0       NaN    米カリフォルニア大学ロサンゼルス校（UCLA）　助教授・医師   \n",
       "62       中林美恵子       2.0       NaN                     早稲田大学　社会科学部教授   \n",
       "66        中室牧子       2.0       NaN                   慶応義塾大学　総合政策学部教授   \n",
       "68        野崎浩成       1.0       NaN                       東洋大学　国際学部教授   \n",
       "76        細谷雄一       1.0       NaN                      慶應義塾大学法学部　教授   \n",
       "86        山崎俊彦       1.0       NaN             東京大学　大学院情報理工学系研究科 准教授   \n",
       "94         遠藤乾       NaN       NaN                               NaN   \n",
       "151       岩嵜博論       NaN       NaN                               NaN   \n",
       "157       瀬地山角       NaN       NaN                               NaN   \n",
       "162       豊田啓介       NaN       NaN                               NaN   \n",
       "164       白河桃子       NaN       NaN                               NaN   \n",
       "170       柳瀬博一       NaN       NaN                               NaN   \n",
       "172       高橋義仁       NaN       NaN                               NaN   \n",
       "175       千葉知世       NaN       NaN                               NaN   \n",
       "183      小野坂優子       NaN       NaN                               NaN   \n",
       "193       鎌倉夏来       NaN       NaN                               NaN   \n",
       "196        小谷賢       NaN       NaN                               NaN   \n",
       "198       塩崎悠輝       NaN       NaN                               NaN   \n",
       "199       武貞秀士       NaN       NaN                               NaN   \n",
       "200      薬師院仁志       NaN       NaN                               NaN   \n",
       "205       前嶋和弘       NaN       NaN                               NaN   \n",
       "207       細川昌彦       NaN       NaN                               NaN   \n",
       "219       福田峰之       NaN       NaN                               NaN   \n",
       "230       西村友作       NaN       NaN                               NaN   \n",
       "231       土居丈朗       NaN       NaN                               NaN   \n",
       "234       大竹文雄       NaN       NaN                               NaN   \n",
       "250       野﨑浩成       NaN       NaN                               NaN   \n",
       "258       松木隆志       NaN       NaN                               NaN   \n",
       "265  松永エリック・匡史       NaN       NaN                               NaN   \n",
       "266      宇田川元一       NaN       NaN                               NaN   \n",
       "277       田中道昭       NaN       NaN                               NaN   \n",
       "287       松田琢磨       NaN       NaN                               NaN   \n",
       "289       中島好美       NaN       NaN                               NaN   \n",
       "291      松田千恵子       NaN       NaN                               NaN   \n",
       "308       武井涼子       NaN       NaN                               NaN   \n",
       "323       若林秀樹       NaN       NaN                               NaN   \n",
       "324       秋田夏実       NaN       NaN                               NaN   \n",
       "327       牧野泰才       NaN       NaN                               NaN   \n",
       "329       早崎公威       NaN       NaN                               NaN   \n",
       "334       土屋武司       NaN       NaN                               NaN   \n",
       "336       西尾素己       NaN       NaN                               NaN   \n",
       "356     小宮山利恵子       NaN       NaN                               NaN   \n",
       "\n",
       "                                                  urls  \\\n",
       "0    https://www.nikkei.com/topics/topic_expert_EVP...   \n",
       "5    https://www.nikkei.com/topics/topic_expert_EVP...   \n",
       "6    https://www.nikkei.com/topics/topic_expert_EVP...   \n",
       "7    https://www.nikkei.com/topics/topic_expert_EVP...   \n",
       "10   https://www.nikkei.com/topics/topic_expert_EVP...   \n",
       "12   https://www.nikkei.com/topics/topic_expert_EVP...   \n",
       "16   https://www.nikkei.com/topics/topic_expert_EVP...   \n",
       "20   https://www.nikkei.com/topics/topic_expert_EVP...   \n",
       "21   https://www.nikkei.com/topics/topic_expert_EVP...   \n",
       "22   https://www.nikkei.com/topics/topic_expert_EVP...   \n",
       "27   https://www.nikkei.com/topics/topic_expert_EVP...   \n",
       "29   https://www.nikkei.com/topics/topic_expert_EVP...   \n",
       "32   https://www.nikkei.com/topics/topic_expert_EVP...   \n",
       "40   https://www.nikkei.com/topics/topic_expert_EVP...   \n",
       "41   https://www.nikkei.com/topics/topic_expert_EVP...   \n",
       "46   https://www.nikkei.com/topics/topic_expert_EVP...   \n",
       "48   https://www.nikkei.com/topics/topic_expert_EVP...   \n",
       "53   https://www.nikkei.com/topics/topic_expert_EVP...   \n",
       "57   https://www.nikkei.com/topics/topic_expert_EVP...   \n",
       "62   https://www.nikkei.com/topics/topic_expert_EVP...   \n",
       "66   https://www.nikkei.com/topics/topic_expert_EVP...   \n",
       "68   https://www.nikkei.com/topics/topic_expert_EVP...   \n",
       "76   https://www.nikkei.com/topics/topic_expert_EVP...   \n",
       "86   https://www.nikkei.com/topics/topic_expert_EVP...   \n",
       "94                                                 NaN   \n",
       "151                                                NaN   \n",
       "157                                                NaN   \n",
       "162                                                NaN   \n",
       "164                                                NaN   \n",
       "170                                                NaN   \n",
       "172                                                NaN   \n",
       "175                                                NaN   \n",
       "183                                                NaN   \n",
       "193                                                NaN   \n",
       "196                                                NaN   \n",
       "198                                                NaN   \n",
       "199                                                NaN   \n",
       "200                                                NaN   \n",
       "205                                                NaN   \n",
       "207                                                NaN   \n",
       "219                                                NaN   \n",
       "230                                                NaN   \n",
       "231                                                NaN   \n",
       "234                                                NaN   \n",
       "250                                                NaN   \n",
       "258                                                NaN   \n",
       "265                                                NaN   \n",
       "266                                                NaN   \n",
       "277                                                NaN   \n",
       "287                                                NaN   \n",
       "289                                                NaN   \n",
       "291                                                NaN   \n",
       "308                                                NaN   \n",
       "323                                                NaN   \n",
       "324                                                NaN   \n",
       "327                                                NaN   \n",
       "329                                                NaN   \n",
       "334                                                NaN   \n",
       "336                                                NaN   \n",
       "356                                                NaN   \n",
       "\n",
       "                                           description  gender_y inhouse_y  \\\n",
       "0    早稲田大学現代中国研究所の所長。著書『現代中国の外交』は2008年に大平正芳記念賞を受賞。米...       NaN       NaN   \n",
       "5    東京都出身。一橋大学法学部、米イリノイ大学数学科卒業。イリノイ大院を経て、東京工業大学博士（...       NaN       NaN   \n",
       "6    中東情勢を理解し、日本に伝えてきた第一人者。日本貿易振興機構アジア経済研究所研究員、国際日本...       NaN       NaN   \n",
       "7    1973年に記者としてＮＨＫ入局。東京社会部などで報道に携わった。94年から11年間、「週刊...       NaN       NaN   \n",
       "10   米バージニア大学大学院経営学修士（MBA）、ハーバード大学大学院経営学博士(DBA)修了。マ...       NaN       NaN   \n",
       "12   1970年岡山市生まれ。94年慶応大文卒、2002年慶大院卒。博士(史学)。茨城大助教授、静...       NaN       NaN   \n",
       "16   京都大学法学部卒業、同大学大学院博士後期課程修了。ドイツ留学時、ベルリンの壁の崩壊と東西冷戦...       NaN       NaN   \n",
       "20   スタンダード&プアーズ、UBS、メリルリンチなどの金融機関でリサーチ業務に従事、各種メディア...       NaN       NaN   \n",
       "21   ニッポンの働き方を人事データから読み解く労働経済学者。1999年スタンフォード大学経営大学院...       NaN       NaN   \n",
       "22   日本経済や財政問題といった骨太テーマに挑む論客。一橋大博士（経済学）。1997年大蔵省（現財...       NaN       NaN   \n",
       "27   1992年一橋大学大学院商学研究科博士課程修了。同大商学部助教授、同大学院国際企業戦略研究科...       NaN       NaN   \n",
       "29   1982年から18年間、東芝で半導体集積回路を研究開発。2000年から20年間、慶應義塾大学...       NaN       NaN   \n",
       "32   経済学者。2003年東京大学卒業（経済学部総代）、2008年ハーバード大学経済学部博士。イェ...       NaN       NaN   \n",
       "40   2000年、英国サセックス大学ヨーロッパ研究所博士課程修了。筑波大学専任講師・准教授、北海道...       NaN       NaN   \n",
       "41   年金、医療など社会保障全般を精緻に分析・提言。1994年上智大卒、大阪大博士。日銀、日経セン...       NaN       NaN   \n",
       "46   グローバルな観点から環境・エネルギーを論じる「脱炭素」時代のオピニオン・リーダー。専門は国際...       NaN       NaN   \n",
       "48   1981年生まれ。東京大学大学院総合文化研究科国際関係論博士課程単位取得退学、博士（学術）。...       NaN       NaN   \n",
       "53   日本政治、比較政治の研究、教育をしています。関心は首相の指導力、コロナ危機への対応過程、参議...       NaN       NaN   \n",
       "57   東北大学医学部卒、ハーバード大学で博士号（PhD）を取得。聖路加国際病院、世界銀行、ハーバー...       NaN       NaN   \n",
       "62   大阪大学博士（国際公共政策）。1992年米国ワシントン州立大学大学院を修了し約10年間、米国...       NaN       NaN   \n",
       "66   慶応義塾大学卒業、米コロンビア大博士。教育の効果を「エビデンス（証拠）」で示す研究の第一人者...       NaN       NaN   \n",
       "68   86年慶大経卒、91年米エール大院修了。あさひ銀行、シティグループ証券などを経て、18年から...       NaN       NaN   \n",
       "76   立教大学法学部卒業。英国バーミンガム大学大学院国際関係学修士号取得。慶應義塾大学大学院法学研...       NaN       NaN   \n",
       "86   東京大学大学院工学系研究科電子工学専攻修了。博士（工学）。2011～2013年、米国・コーネ...       NaN       NaN   \n",
       "94                                                 NaN       1.0       NaN   \n",
       "151                                                NaN       NaN       NaN   \n",
       "157                                                NaN       NaN       NaN   \n",
       "162                                                NaN       NaN       NaN   \n",
       "164                                                NaN       NaN       NaN   \n",
       "170                                                NaN       NaN       NaN   \n",
       "172                                                NaN       NaN       NaN   \n",
       "175                                                NaN       NaN       NaN   \n",
       "183                                                NaN       NaN       NaN   \n",
       "193                                                NaN       NaN       NaN   \n",
       "196                                                NaN       NaN       NaN   \n",
       "198                                                NaN       NaN       NaN   \n",
       "199                                                NaN       NaN       NaN   \n",
       "200                                                NaN       NaN       NaN   \n",
       "205                                                NaN       NaN       NaN   \n",
       "207                                                NaN       NaN       NaN   \n",
       "219                                                NaN       NaN       NaN   \n",
       "230                                                NaN       NaN       NaN   \n",
       "231                                                NaN       NaN       NaN   \n",
       "234                                                NaN       NaN       NaN   \n",
       "250                                                NaN       NaN       NaN   \n",
       "258                                                NaN       NaN       NaN   \n",
       "265                                                NaN       NaN       NaN   \n",
       "266                                                NaN       NaN       NaN   \n",
       "277                                                NaN       NaN       NaN   \n",
       "287                                                NaN       NaN       NaN   \n",
       "289                                                NaN       NaN       NaN   \n",
       "291                                                NaN       NaN       NaN   \n",
       "308                                                NaN       NaN       NaN   \n",
       "323                                                NaN       NaN       NaN   \n",
       "324                                                NaN       NaN       NaN   \n",
       "327                                                NaN       NaN       NaN   \n",
       "329                                                NaN       NaN       NaN   \n",
       "334                                                NaN       NaN       NaN   \n",
       "336                                                NaN       NaN       NaN   \n",
       "356                                                NaN       NaN       NaN   \n",
       "\n",
       "         a_headline                                          a_profile  \\\n",
       "0               NaN                                                NaN   \n",
       "5               NaN                                                NaN   \n",
       "6               NaN                                                NaN   \n",
       "7               NaN                                                NaN   \n",
       "10              NaN                                                NaN   \n",
       "12              NaN                                                NaN   \n",
       "16              NaN                                                NaN   \n",
       "20              NaN                                                NaN   \n",
       "21              NaN                                                NaN   \n",
       "22              NaN                                                NaN   \n",
       "27              NaN                                                NaN   \n",
       "29              NaN                                                NaN   \n",
       "32              NaN                                                NaN   \n",
       "40              NaN                                                NaN   \n",
       "41              NaN                                                NaN   \n",
       "46              NaN                                                NaN   \n",
       "48              NaN                                                NaN   \n",
       "53              NaN                                                NaN   \n",
       "57              NaN                                                NaN   \n",
       "62              NaN                                                NaN   \n",
       "66              NaN                                                NaN   \n",
       "68              NaN                                                NaN   \n",
       "76              NaN                                                NaN   \n",
       "86              NaN                                                NaN   \n",
       "94   北海道大学公共政策大学院教授  1966年生まれ。北海道大学法学部卒、同大学大学院法学研究科修士課程修了。ベルギー・カトリッ...   \n",
       "151             NaN                                                NaN   \n",
       "157             NaN                                                NaN   \n",
       "162             NaN                                                NaN   \n",
       "164             NaN                                                NaN   \n",
       "170             NaN                                                NaN   \n",
       "172             NaN                                                NaN   \n",
       "175             NaN                                                NaN   \n",
       "183             NaN                                                NaN   \n",
       "193             NaN                                                NaN   \n",
       "196             NaN                                                NaN   \n",
       "198             NaN                                                NaN   \n",
       "199             NaN                                                NaN   \n",
       "200             NaN                                                NaN   \n",
       "205             NaN                                                NaN   \n",
       "207             NaN                                                NaN   \n",
       "219             NaN                                                NaN   \n",
       "230             NaN                                                NaN   \n",
       "231             NaN                                                NaN   \n",
       "234             NaN                                                NaN   \n",
       "250             NaN                                                NaN   \n",
       "258             NaN                                                NaN   \n",
       "265             NaN                                                NaN   \n",
       "266             NaN                                                NaN   \n",
       "277             NaN                                                NaN   \n",
       "287             NaN                                                NaN   \n",
       "289             NaN                                                NaN   \n",
       "291             NaN                                                NaN   \n",
       "308             NaN                                                NaN   \n",
       "323             NaN                                                NaN   \n",
       "324             NaN                                                NaN   \n",
       "327             NaN                                                NaN   \n",
       "329             NaN                                                NaN   \n",
       "334             NaN                                                NaN   \n",
       "336             NaN                                                NaN   \n",
       "356             NaN                                                NaN   \n",
       "\n",
       "     gender inhouse np_category  \\\n",
       "0       NaN     NaN         NaN   \n",
       "5       NaN     NaN         NaN   \n",
       "6       1.0     NaN          国際   \n",
       "7       NaN     NaN         NaN   \n",
       "10      NaN     NaN         NaN   \n",
       "12      NaN     NaN         NaN   \n",
       "16      NaN     NaN         NaN   \n",
       "20      2.0     NaN         マネー   \n",
       "21      NaN     NaN         NaN   \n",
       "22      NaN     NaN         NaN   \n",
       "27      NaN     NaN         NaN   \n",
       "29      NaN     NaN         NaN   \n",
       "32      NaN     NaN         NaN   \n",
       "40      1.0     NaN          国際   \n",
       "41      NaN     NaN         NaN   \n",
       "46      NaN     NaN         NaN   \n",
       "48      NaN     NaN         NaN   \n",
       "53      NaN     NaN         NaN   \n",
       "57      NaN     NaN         NaN   \n",
       "62      NaN     NaN         NaN   \n",
       "66      NaN     NaN         NaN   \n",
       "68      NaN     NaN         NaN   \n",
       "76      NaN     NaN         NaN   \n",
       "86      1.0     NaN      テクノロジー   \n",
       "94      1.0     NaN          国際   \n",
       "151     1.0     NaN   7月のプロピッカー   \n",
       "157     1.0     NaN          社会   \n",
       "162     1.0     NaN          社会   \n",
       "164     2.0     NaN          社会   \n",
       "170     1.0     NaN          社会   \n",
       "172     1.0     NaN          社会   \n",
       "175     2.0     NaN          社会   \n",
       "183     2.0     NaN          社会   \n",
       "193     2.0     NaN          社会   \n",
       "196     1.0     NaN          国際   \n",
       "198     1.0     NaN          国際   \n",
       "199     1.0     NaN          国際   \n",
       "200     1.0     NaN          国際   \n",
       "205     1.0     NaN          国際   \n",
       "207     1.0     NaN          国際   \n",
       "219     1.0     NaN       政治・行政   \n",
       "230     1.0     NaN          経済   \n",
       "231     1.0     NaN          経済   \n",
       "234     1.0     NaN          経済   \n",
       "250     1.0     NaN         マネー   \n",
       "258     1.0     NaN       ヘルスケア   \n",
       "265     1.0     NaN        ビジネス   \n",
       "266     1.0     NaN        ビジネス   \n",
       "277     1.0     NaN        ビジネス   \n",
       "287     1.0     NaN        ビジネス   \n",
       "289     2.0     NaN        ビジネス   \n",
       "291     2.0     NaN        ビジネス   \n",
       "308     2.0     NaN        ビジネス   \n",
       "323     1.0     NaN      テクノロジー   \n",
       "324     2.0     NaN      テクノロジー   \n",
       "327     1.0     NaN      テクノロジー   \n",
       "329     1.0     NaN      テクノロジー   \n",
       "334     1.0     NaN      テクノロジー   \n",
       "336     1.0     NaN      テクノロジー   \n",
       "356     2.0     NaN        キャリア   \n",
       "\n",
       "                                           np_headline     likes  \n",
       "0                                                  NaN       NaN  \n",
       "5                                                  NaN       NaN  \n",
       "6                東京大学 先端科学技術研究センター教授（グローバルセキュリティ・宗教分野）   23595.0  \n",
       "7                                                  NaN       NaN  \n",
       "10                                                 NaN       NaN  \n",
       "12                                                 NaN       NaN  \n",
       "16                                                 NaN       NaN  \n",
       "20                         マネックス証券 執行役員 /名古屋商科大学大学院 教授   21667.0  \n",
       "21                                                 NaN       NaN  \n",
       "22                                                 NaN       NaN  \n",
       "27                                                 NaN       NaN  \n",
       "29                                                 NaN       NaN  \n",
       "32                                                 NaN       NaN  \n",
       "40                                      東京大学 公共政策大学院教授   27800.0  \n",
       "41                                                 NaN       NaN  \n",
       "46                                                 NaN       NaN  \n",
       "48                                                 NaN       NaN  \n",
       "53                                                 NaN       NaN  \n",
       "57                                                 NaN       NaN  \n",
       "62                                                 NaN       NaN  \n",
       "66                                                 NaN       NaN  \n",
       "68                                                 NaN       NaN  \n",
       "76                                                 NaN       NaN  \n",
       "86                        東京大学 大学院情報理工学系研究科電子情報学専攻　准教授   94902.0  \n",
       "94                        北海道大学法学部・公共政策大学院教授（政治学、国際政治）    5360.0  \n",
       "151                        武蔵野美術大学 クリエイティブイノベーション学科 教授     108.0  \n",
       "157                                    東京大学　総合文化研究科 教授    3106.0  \n",
       "162           建築家、noizパートナー、gluonパートナー、東京大学生産技術研究所客員教授    3276.0  \n",
       "164                   相模女子大学特任教授　新刊「働かないおじさんが御社をダメにする」   21451.0  \n",
       "170                             東京工業大学 リベラルアーツ研究教育院　教授    1307.0  \n",
       "172                                         専修大学 商学部教授   13468.0  \n",
       "175                                        大阪府立大学  准教授    6735.0  \n",
       "183                                       スタヴァンゲル大学 教授    4406.0  \n",
       "193                                   東京大学 総合文化研究科 准教授     977.0  \n",
       "196                                     日本大学　危機管理学部 教授   21252.0  \n",
       "198                                   静岡県立大学国際関係学部 准教授   94373.0  \n",
       "199                                       拓殖大学大学院 客員教授   45216.0  \n",
       "200                                         帝塚山学院大学 教授   21848.0  \n",
       "205                       上智大学 総合グローバル学部教授（現代アメリカ政治外交）   22853.0  \n",
       "207                                        明星大学 経営学部教授   11748.0  \n",
       "219                          前衆議院議員・多摩大学ルール形成戦略研究所客員教授    7582.0  \n",
       "230                             中国 対外経済貿易大学 国際経済研究院 教授   28935.0  \n",
       "231                                      慶應義塾大学 経済学部教授   17116.0  \n",
       "234                                     大阪大学 経済学研究科 教授   27474.0  \n",
       "250                                            東洋大学 教授   69490.0  \n",
       "258                               マウントサイナイ医科大学 精神科 助教授    2615.0  \n",
       "265                       青山学院大学 教授 アバナード株式会社 デジタル最高顧問   18023.0  \n",
       "266                                   埼玉大学経済経営系大学院 准教授   11944.0  \n",
       "277                                    立教大学ビジネススクール 教授   22692.0  \n",
       "287                                         拓殖大学商学部 教授    2207.0  \n",
       "289                                     事業構想大学院大学 特任教授   13799.0  \n",
       "291                         東京都立大学 東京都立大学大学院　経営学研究科　教授    9059.0  \n",
       "308                          グロービス経営大学院大学／二期会  准教授／声楽家   79658.0  \n",
       "323  東京理科大学　大学院経営学研究科技術経営(MOT)専攻　兼　総合研究院　技術経営金融工学社会...  100207.0  \n",
       "324                    アドビ/情報経営イノベーション専門職大学客員教授/やまなし大使   21232.0  \n",
       "327                              東京大学大学院新領域創成科学研究科 准教授   55479.0  \n",
       "329                                   忠北大学 天文宇宙科学科 准教授   60151.0  \n",
       "334                         東京大学 大学院工学系研究科 航空宇宙工学専攻 教授   58765.0  \n",
       "336                                多摩大学ルール形成戦略研究所 客員教授   20067.0  \n",
       "356                      スタディサプリ教育AI研究所所長、東京学芸大学大学院准教授  160747.0  "
      ]
     },
     "execution_count": 60,
     "metadata": {},
     "output_type": "execute_result"
    }
   ],
   "source": [
    "dfnknpa[(dfnknpa['headline'].str.contains('教授')) | (dfnknpa['a_headline'].str.contains('教授')) | (dfnknpa['np_headline'].str.contains('教授'))]"
   ]
  },
  {
   "cell_type": "code",
   "execution_count": 61,
   "id": "d93f7311",
   "metadata": {},
   "outputs": [
    {
     "data": {
      "text/plain": [
       "19"
      ]
     },
     "execution_count": 61,
     "metadata": {},
     "output_type": "execute_result"
    }
   ],
   "source": [
    "len(dfnknpa[(dfnknpa['headline'].str.contains('CEO')) | (dfnknpa['a_headline'].str.contains('CEO')) | (dfnknpa['np_headline'].str.contains('CEO'))])"
   ]
  },
  {
   "cell_type": "code",
   "execution_count": 79,
   "id": "cc0f80ff",
   "metadata": {},
   "outputs": [
    {
     "data": {
      "text/plain": [
       "5.3"
      ]
     },
     "execution_count": 79,
     "metadata": {},
     "output_type": "execute_result"
    }
   ],
   "source": [
    "round(19/360*100,1)"
   ]
  },
  {
   "cell_type": "markdown",
   "id": "e7d95aa8",
   "metadata": {},
   "source": [
    "## 19 CEOs in 3 services"
   ]
  },
  {
   "cell_type": "code",
   "execution_count": 106,
   "id": "a9d11a09",
   "metadata": {},
   "outputs": [],
   "source": [
    "# dfnknpa[(dfnknpa['headline'].str.contains('CEO')) | (dfnknpa['a_headline'].str.contains('CEO')) | (dfnknpa['np_headline'].str.contains('CEO'))]"
   ]
  },
  {
   "cell_type": "code",
   "execution_count": 107,
   "id": "7694912f",
   "metadata": {},
   "outputs": [
    {
     "data": {
      "text/plain": [
       "9"
      ]
     },
     "execution_count": 107,
     "metadata": {},
     "output_type": "execute_result"
    }
   ],
   "source": [
    "len(dfnknpa[(dfnknpa['headline'].str.contains('ジャーナリスト')) | (dfnknpa['a_headline'].str.contains('ジャーナリスト')) | (dfnknpa['np_headline'].str.contains('ジャーナリスト'))])"
   ]
  },
  {
   "cell_type": "code",
   "execution_count": 108,
   "id": "83a1c1a6",
   "metadata": {},
   "outputs": [
    {
     "data": {
      "text/plain": [
       "2.5"
      ]
     },
     "execution_count": 108,
     "metadata": {},
     "output_type": "execute_result"
    }
   ],
   "source": [
    "9/360*100"
   ]
  },
  {
   "cell_type": "code",
   "execution_count": null,
   "id": "6288bc2c",
   "metadata": {},
   "outputs": [],
   "source": []
  },
  {
   "cell_type": "code",
   "execution_count": 63,
   "id": "0ba32366",
   "metadata": {},
   "outputs": [],
   "source": [
    "dfnknpa.to_csv('summary.csv')"
   ]
  },
  {
   "cell_type": "code",
   "execution_count": null,
   "id": "2ed57f4a",
   "metadata": {},
   "outputs": [],
   "source": []
  }
 ],
 "metadata": {
  "kernelspec": {
   "display_name": "Python 3",
   "language": "python",
   "name": "python3"
  },
  "language_info": {
   "codemirror_mode": {
    "name": "ipython",
    "version": 3
   },
   "file_extension": ".py",
   "mimetype": "text/x-python",
   "name": "python",
   "nbconvert_exporter": "python",
   "pygments_lexer": "ipython3",
   "version": "3.8.10"
  }
 },
 "nbformat": 4,
 "nbformat_minor": 5
}
